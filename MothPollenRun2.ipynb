{
 "cells": [
  {
   "cell_type": "markdown",
   "metadata": {},
   "source": [
    "The first step will be to __trim/clean our raw Illumina data__."
   ]
  },
  {
   "cell_type": "markdown",
   "metadata": {},
   "source": [
    "Prepare a text file specifying the samples to be processed including the format and location of the reads.\n",
    "\n",
    "The below command expects the Illumina data to be present in 2 fastq files (forward and reverse reads) per sample in a directory ./raw_data/. It expects the files to be named 'plateID_L001', followed by 'R1' or 'R2' to identify the forward/reverse read file respectively. "
   ]
  },
  {
   "cell_type": "code",
   "execution_count": 1,
   "metadata": {
    "collapsed": false
   },
   "outputs": [
    {
     "name": "stdout",
     "output_type": "stream",
     "text": [
      "SA177\tfastq\traw_data/Moth1_S1_L001_R1_001.fastq.gz\traw_data/Moth1_S1_L001_R2_001.fastq.gz\tTCGCCTTA\tTAGATCGC\t21\t22\r",
      "\r\n",
      "SB140\tfastq\traw_data/Moth1_S1_L001_R1_001.fastq.gz\traw_data/Moth1_S1_L001_R2_001.fastq.gz\tAGCGTAGC\tCTCTCTAT\t21\t23\r",
      "\r\n",
      "T19\tfastq\traw_data/Moth1_S1_L001_R1_001.fastq.gz\traw_data/Moth1_S1_L001_R2_001.fastq.gz\tTCGCCTTA\tTATCCTCT\t21\t24\r",
      "\r\n",
      "Lg45\tfastq\traw_data/Moth1_S1_L001_R1_001.fastq.gz\traw_data/Moth1_S1_L001_R2_001.fastq.gz\tAGCGTAGC\tAGAGTAGA\t21\t25\r",
      "\r\n",
      "Q69\tfastq\traw_data/Moth1_S1_L001_R1_001.fastq.gz\traw_data/Moth1_S1_L001_R2_001.fastq.gz\tTCGCCTTA\tGTAAGGAG\t21\t26\r",
      "\r\n",
      "S72\tfastq\traw_data/Moth1_S1_L001_R1_001.fastq.gz\traw_data/Moth1_S1_L001_R2_001.fastq.gz\tAGCGTAGC\tACTGCATA\t21\t27\r",
      "\r\n",
      "SC66\tfastq\traw_data/Moth1_S1_L001_R1_001.fastq.gz\traw_data/Moth1_S1_L001_R2_001.fastq.gz\tTCGCCTTA\tAAGGAGTA\t21\t28\r",
      "\r\n",
      "S31\tfastq\traw_data/Moth1_S1_L001_R1_001.fastq.gz\traw_data/Moth1_S1_L001_R2_001.fastq.gz\tAGCGTAGC\tCTAAGCCT\t21\t29\r",
      "\r\n",
      "SC74\tfastq\traw_data/Moth1_S1_L001_R1_001.fastq.gz\traw_data/Moth1_S1_L001_R2_001.fastq.gz\tTCGCCTTA\tGCAGCGTA\t21\t22\r",
      "\r\n",
      "SA68\tfastq\traw_data/Moth1_S1_L001_R1_001.fastq.gz\traw_data/Moth1_S1_L001_R2_001.fastq.gz\tAGCGTAGC\tCTGCGCAT\t21\t28\r",
      "\r\n"
     ]
    }
   ],
   "source": [
    "!head Querymap_global.txt"
   ]
  },
  {
   "cell_type": "markdown",
   "metadata": {},
   "source": [
    "__Raw data trimming and merging of reads__ using the metaBEAT pipeline."
   ]
  },
  {
   "cell_type": "code",
   "execution_count": 2,
   "metadata": {
    "collapsed": false,
    "scrolled": false
   },
   "outputs": [
    {
     "name": "stdout",
     "output_type": "stream",
     "text": [
      "usage: metaBEAT.py [-h] [-Q <FILE>] [-v] [-s] [-f] [-p] [-b] [-m <string>]\n",
      "                   [-n <INT>] [-E] [-e] [--PCR_primer <FILE>]\n",
      "                   [--trim_adapter <FILE>] [--trim_qual <INT>] [--phred <INT>]\n",
      "                   [--trim_window <INT>] [--trim_minlength <INT>] [--merge]\n",
      "                   [--product_length <INT>] [--merged_only] [--forward_only]\n",
      "                   [--length_filter <INT>] [--length_deviation <FLOAT>]\n",
      "                   [-R <FILE>] [--gb_out <FILE>] [--rec_check]\n",
      "                   [--blast_db <PATH>] [--gi_to_taxid <FILE>] [--cluster]\n",
      "                   [--clust_match <FLOAT>] [--clust_cov <INT>] [--www]\n",
      "                   [--min_ident <FLOAT>] [--min_ali_length <FLOAT>]\n",
      "                   [--min_bit <INT>] [--refpkg <DIR>] [-o OUTPUT_PREFIX]\n",
      "                   [--metadata METADATA] [--mock_meta_data]\n",
      "                   [-@ <email-address>] [--version]\n",
      "\n",
      "metaBEAT - metaBarcoding and Environmental DNA Analyses tool version: v.0.9\n",
      "\n",
      "optional arguments:\n",
      "  -h, --help            show this help message and exit\n",
      "  -Q <FILE>, --querylist <FILE>\n",
      "                        file containing a list of query files\n",
      "  -v, --verbose         turn verbose output on\n",
      "  -s, --seqinfo         write out seq_info.csv file\n",
      "  -f, --fasta           write out ref.fasta file\n",
      "  -p, --phyloplace      perform phylogenetic placement\n",
      "  -b, --blast           compile local blast db and blast queries\n",
      "  -m <string>, --marker <string>\n",
      "                        marker ID (default: marker)\n",
      "  -n <INT>, --n_threads <INT>\n",
      "                        Number of threads (default: 1)\n",
      "  -E, --extract_centroid_reads\n",
      "                        extract centroid reads to files\n",
      "  -e, --extract_all_reads\n",
      "                        extract reads to files\n",
      "  --version             show program's version number and exit\n",
      "\n",
      "Query preprocessing:\n",
      "  The parameters in this group affect how the query sequences are processed\n",
      "\n",
      "  --PCR_primer <FILE>   PCR primers (provided in fasta file) to be clipped\n",
      "                        from reads\n",
      "  --trim_adapter <FILE>\n",
      "                        trim adapters provided in file\n",
      "  --trim_qual <INT>     minimum phred quality score (default: 30)\n",
      "  --phred <INT>         phred quality score offset - 33 or 64 (default: 33)\n",
      "  --trim_window <INT>   sliding window size (default: 5) for trimming; if\n",
      "                        average quality drops below the specified minimum\n",
      "                        quality all subsequent bases are removed from the\n",
      "                        reads\n",
      "  --trim_minlength <INT>\n",
      "                        minimum length of reads to be retained after trimming\n",
      "                        (default: 50)\n",
      "  --merge               attempt to merge paired-end reads\n",
      "  --product_length <INT>\n",
      "                        estimated length of PCR product (specifying this\n",
      "                        option increases merging efficiency)\n",
      "  --merged_only         only process successfully merged read-pairs\n",
      "  --forward_only        only process sequences that contain forward reads\n",
      "                        (i.e. unmerged forward reads and merged reads)\n",
      "  --length_filter <INT>\n",
      "                        only process reads, which are within +/- 10 percent of\n",
      "                        this length\n",
      "  --length_deviation <FLOAT>\n",
      "                        allowed deviation (in percent) from length specified\n",
      "                        by --length_filter (default=0.1)\n",
      "\n",
      "Reference:\n",
      "  The parameters in this group affect the reference to be used in the\n",
      "  analyses\n",
      "\n",
      "  -R <FILE>, --REFlist <FILE>\n",
      "                        file containing a list of files to be used as\n",
      "                        reference sequences\n",
      "  --gb_out <FILE>       output the corrected gb file\n",
      "  --rec_check           check records to be used as reference\n",
      "  --blast_db <PATH>     path to precompiled blast database\n",
      "  --gi_to_taxid <FILE>  comma delimited file containing 'gi accession,taxid'\n",
      "                        for a list of taxa\n",
      "\n",
      "Query clustering options:\n",
      "  The parameters in this group affect read clustering\n",
      "\n",
      "  --cluster             perform clustering of query sequences using vsearch\n",
      "  --clust_match <FLOAT>\n",
      "                        identity threshold for clustering in percent (default:\n",
      "                        1)\n",
      "  --clust_cov <INT>     minimum number of records in cluster (default: 1)\n",
      "\n",
      "BLAST search:\n",
      "  The parameters in this group affect BLAST search and BLAST based taxonomic\n",
      "  assignment\n",
      "\n",
      "  --www                 perform online BLAST search against nt database\n",
      "  --min_ident <FLOAT>   minimum identity threshold in percent (default: 0.80)\n",
      "  --min_ali_length <FLOAT>\n",
      "                        minimum alignment length in percent of total query\n",
      "                        length (default: 0.95)\n",
      "  --min_bit <INT>       minimum bitscore (default: 80)\n",
      "\n",
      "Phylogenetic placement:\n",
      "  The parameters in this group affect phylogenetic placement\n",
      "\n",
      "  --refpkg <DIR>        PATH to refpkg\n",
      "\n",
      "BIOM OUTPUT:\n",
      "  The arguments in this groups affect the output in BIOM format\n",
      "\n",
      "  -o OUTPUT_PREFIX, --output_prefix OUTPUT_PREFIX\n",
      "                        prefix for BIOM output files (default='metaBEAT')\n",
      "  --metadata METADATA   comma delimited file containing metadata (optional)\n",
      "  --mock_meta_data      add mock metadata to the samples in the BIOM output\n",
      "\n",
      "Entrez identification:\n",
      "  metaBEAT is querying the NCBI Entrez databases, please provide an email\n",
      "  address for identification\n",
      "\n",
      "  -@ <email-address>, --email <email-address>\n",
      "                        provide your email address for identification to NCBI\n"
     ]
    }
   ],
   "source": [
    "%%bash\n",
    "\n",
    "metaBEAT.py -h"
   ]
  },
  {
   "cell_type": "code",
   "execution_count": 4,
   "metadata": {
    "collapsed": true
   },
   "outputs": [],
   "source": [
    "%%bash\n",
    "\n",
    "metaBEAT_global.py \\\n",
    "-Q Querymap_global.txt \\\n",
    "--trim_qual 30 \\\n",
    "--trim_minlength 90 \\\n",
    "--merge \\\n",
    "--product_length 300 \\\n",
    "--forward_only \\\n",
    "-R REFmap.txt \\\n",
    "--cluster \\\n",
    "--clust_match 1 \\\n",
    "--clust_cov 5 \\\n",
    "--blast \\\n",
    "--min_ident 0.95 \\\n",
    "-n 5 \\\n",
    "-v \\\n",
    "-@ callumjmacgregor@gmail.com \\\n",
    "-o MothPollen > log"
   ]
  },
  {
   "cell_type": "code",
   "execution_count": null,
   "metadata": {
    "collapsed": true
   },
   "outputs": [],
   "source": []
  }
 ],
 "metadata": {
  "kernelspec": {
   "display_name": "Python 2",
   "language": "python",
   "name": "python2"
  },
  "language_info": {
   "codemirror_mode": {
    "name": "ipython",
    "version": 2
   },
   "file_extension": ".py",
   "mimetype": "text/x-python",
   "name": "python",
   "nbconvert_exporter": "python",
   "pygments_lexer": "ipython2",
   "version": "2.7.6"
  }
 },
 "nbformat": 4,
 "nbformat_minor": 0
}
