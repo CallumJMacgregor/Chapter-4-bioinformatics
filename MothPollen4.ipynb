{
 "cells": [
  {
   "cell_type": "markdown",
   "metadata": {},
   "source": [
    "__metaBEAT analysis of Illumina seq output for pollen transported by moths__"
   ]
  },
  {
   "cell_type": "markdown",
   "metadata": {},
   "source": [
    "In previous analyses we have performed clustering and played around with BLAST assignment. We can probably re-use the clustering without bothering to try it again. Therefore it remains to refine and finalise the assignments."
   ]
  },
  {
   "cell_type": "markdown",
   "metadata": {},
   "source": [
    "Produce new querymap based on the one from the previous runs. Specify the clustering results from the last run as input."
   ]
  },
  {
   "cell_type": "code",
   "execution_count": 32,
   "metadata": {
    "collapsed": false
   },
   "outputs": [
    {
     "name": "stdout",
     "output_type": "stream",
     "text": [
      "SA177\tfasta\t/home/working/Callum/Callum/analyses/2nd-time/SA177/SA177_trimmed.fasta\n",
      "SB140\tfasta\t/home/working/Callum/Callum/analyses/2nd-time/SB140/SB140_trimmed.fasta\n",
      "T19\tfasta\t/home/working/Callum/Callum/analyses/2nd-time/T19/T19_trimmed.fasta\n",
      "Lg45\tfasta\t/home/working/Callum/Callum/analyses/2nd-time/Lg45/Lg45_trimmed.fasta\n",
      "Q69\tfasta\t/home/working/Callum/Callum/analyses/2nd-time/Q69/Q69_trimmed.fasta\n",
      "S72\tfasta\t/home/working/Callum/Callum/analyses/2nd-time/S72/S72_trimmed.fasta\n",
      "SC66\tfasta\t/home/working/Callum/Callum/analyses/2nd-time/SC66/SC66_trimmed.fasta\n",
      "S31\tfasta\t/home/working/Callum/Callum/analyses/2nd-time/S31/S31_trimmed.fasta\n",
      "SC74\tfasta\t/home/working/Callum/Callum/analyses/2nd-time/SC74/SC74_trimmed.fasta\n",
      "SA68\tfasta\t/home/working/Callum/Callum/analyses/2nd-time/SA68/SA68_trimmed.fasta\n"
     ]
    }
   ],
   "source": [
    "%%bash\n",
    "\n",
    "for sample in $(cat /home/working/Callum/Callum/analyses/2nd-time/Querymap_global.txt | cut -f 1)\n",
    "do\n",
    "    fasta=$(ls -1 /home/working/Callum/Callum/analyses/2nd-time/$sample/$sample\\_trimmed.fasta)\n",
    "    echo -e \"$sample\\tfasta\\t$fasta\"\n",
    "done > Final/Querymap.txt\n",
    "\n",
    "head Final/Querymap.txt"
   ]
  },
  {
   "cell_type": "markdown",
   "metadata": {},
   "source": [
    "Now try doing a BLAST against the entirety of Genbank, using the most recent downloaded version (in the EGREP folder)"
   ]
  },
  {
   "cell_type": "code",
   "execution_count": null,
   "metadata": {
    "collapsed": true
   },
   "outputs": [],
   "source": [
    "%%bash\n",
    "\n",
    "metaBEAT_global.py \\\n",
    "-Q Final/Querymap.txt \\\n",
    "--cluster \\\n",
    "--clust_match 1 \\\n",
    "--clust_cov 5 \\\n",
    "--blast \\\n",
    "--blast_db /home/working/src/BLAST_DB/nt \\\n",
    "--min_ident 0.95 \\\n",
    "-n 5 \\\n",
    "-v \\\n",
    "-@ callumjmacgregor@gmail.com \\\n",
    "-o MothPollenGenbank > log"
   ]
  }
 ],
 "metadata": {
  "kernelspec": {
   "display_name": "Python 2",
   "language": "python",
   "name": "python2"
  },
  "language_info": {
   "codemirror_mode": {
    "name": "ipython",
    "version": 2
   },
   "file_extension": ".py",
   "mimetype": "text/x-python",
   "name": "python",
   "nbconvert_exporter": "python",
   "pygments_lexer": "ipython2",
   "version": "2.7.6"
  }
 },
 "nbformat": 4,
 "nbformat_minor": 0
}
