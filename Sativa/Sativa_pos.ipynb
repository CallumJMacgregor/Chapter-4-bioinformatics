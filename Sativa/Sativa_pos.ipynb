{
 "cells": [
  {
   "cell_type": "markdown",
   "metadata": {},
   "source": [
    "#Running SATIVA - positives"
   ]
  },
  {
   "cell_type": "markdown",
   "metadata": {},
   "source": [
    "Prepare input files.\n",
    "The alignment has been produced using ReproPhylo in the Sativa_pos_prep notebook. We'll just cleanup the sequence headers and create a local copy."
   ]
  },
  {
   "cell_type": "code",
   "execution_count": 22,
   "metadata": {
    "collapsed": true
   },
   "outputs": [],
   "source": [
    "!cat rbcL@mafftLinsi_aln_clipped.phy | sed 's/_f[0-9] / /' > alignment.phy"
   ]
  },
  {
   "cell_type": "markdown",
   "metadata": {},
   "source": [
    "SATIVA requires a 'taxonomy file', i.e. a text file that links each sequence record to a NCBI taxonomic ID (aka taxid).\n",
    "\n",
    "We are going to generate this file from a bunch of sequence records downloaded from Genbank.\n",
    "\n",
    "We have downloaded our reference sequences from Genbank in .gb format, which contains metadata including the taxid.\n",
    "\n",
    "Let's parse the Genbank file."
   ]
  },
  {
   "cell_type": "code",
   "execution_count": 23,
   "metadata": {
    "collapsed": true
   },
   "outputs": [],
   "source": [
    "from Bio import SeqIO\n",
    "\n",
    "records = SeqIO.to_dict(SeqIO.parse(open('rbcL_nr_pre_Sativa_pos.gb','r'),'genbank'))"
   ]
  },
  {
   "cell_type": "markdown",
   "metadata": {},
   "source": [
    "Here is the first Genbank format record:"
   ]
  },
  {
   "cell_type": "code",
   "execution_count": 24,
   "metadata": {
    "collapsed": false
   },
   "outputs": [
    {
     "name": "stdout",
     "output_type": "stream",
     "text": [
      "LOCUS       JX571820                 552 bp    DNA     linear   PLN 17-SEP-2013\n",
      "DEFINITION  Dracaena draco voucher Hosam00045 ribulose-1,5-bisphosphate\n",
      "            carboxylase/oxygenase large subunit (rbcL) gene, partial cds;\n",
      "            chloroplast.\n",
      "ACCESSION   JX571820\n",
      "VERSION     JX571820.1\n",
      "KEYWORDS    .\n",
      "SOURCE      chloroplast Dracaena draco\n",
      "  ORGANISM  Dracaena draco\n",
      "            Eukaryota; Viridiplantae; Streptophyta; Embryophyta; Tracheophyta;\n",
      "            Spermatophyta; Magnoliophyta; Liliopsida; Asparagales; Asparagaceae;\n",
      "            Nolinoideae; Dracaena.\n",
      "REFERENCE   1  (bases 1 to 552)\n",
      "  AUTHORS   Elansary,H.O.\n",
      "  TITLE     Towards a DNA barcode library for Egyptian flora, with a preliminary\n",
      "            focus on ornamental trees and shrubs of two major gardens\n",
      "  JOURNAL   DNA Barcodes (Berlin) 1, 46-55 (2013)\n",
      "REFERENCE   2  (bases 1 to 552)\n",
      "  AUTHORS   Elansary,H.O.\n",
      "  TITLE     Direct Submission\n",
      "  JOURNAL   Submitted (04-SEP-2012) Floriculture, Ornamental Horticulture and\n",
      "            Garden Design, Faculty of Agriculture, Alexandria University,\n",
      "            Aflaton Street, Alexandria 00203, Egypt\n",
      "FEATURES             Location/Qualifiers\n",
      "     source          1..552\n",
      "                     /PCR_primers=\"fwd_seq: atgtcaccacaaacagagactaaagc, rev_seq:\n",
      "                     gtaaaatcaagtccaccrcg\"\n",
      "                     /collected_by=\"Hosam Elansary\"\n",
      "                     /collection_date=\"22-Jun-2010\"\n",
      "                     /country=\"Egypt: Alexandria, Smouha, Antoniades gardens\"\n",
      "                     /db_xref=\"BOLD:HOSAM045-10.rbcLa\"\n",
      "                     /db_xref=\"taxon:100532\"\n",
      "                     /feature_id=\"JX571820.1_source\"\n",
      "                     /identified_by=\"Hosam O. M. Elansary\"\n",
      "                     /lat_lon=\"31.202 N 29.95 E\"\n",
      "                     /mol_type=\"genomic DNA\"\n",
      "                     /note=\"modified from original record: cropped to only CDS\n",
      "                     of rbcL\"\n",
      "                     /organelle=\"plastid:chloroplast\"\n",
      "                     /organism=\"Dracaena draco\"\n",
      "                     /specimen_voucher=\"Hosam00045\"\n",
      "     CDS             1..552\n",
      "                     /GC_content=\"42.5724637681\"\n",
      "                     /codon_start=1\n",
      "                     /feature_id=\"JX571820.1_f0\"\n",
      "                     /gene=\"rbcL\"\n",
      "                     /nuc_degen_prop=\"0.0\"\n",
      "                     /product=\"ribulose-1,5-bisphosphate carboxylase/oxygenase\n",
      "                     large subunit\"\n",
      "                     /prot_degen_prop=\"0.0\"\n",
      "                     /protein_id=\"AFU65366.1\"\n",
      "                     /transl_table=11\n",
      "                     /translation=\"SVGFKAGVKDYRLTYYTPDYETKDTDILAAFRVTPQPGVPAEEAG\n",
      "                     AAVAAESSTGTWTTVWTDGLTSLDRYKGRCYHIEAVVGEENQYICYVAYPLDLFEEGSV\n",
      "                     TNMFTSIVGNVFGFKALRALRLEDLRIPPAYSKTFLGPPHGIQVERDKLNKYGRPLLGC\n",
      "                     TIKPKLGLSAKNYGRAVYECL\"\n",
      "ORIGIN\n",
      "        1 agtgttggat ttaaagctgg tgttaaagat tacagattga cttattatac tcctgattac\n",
      "       61 gaaaccaaag atactgatat cttggcagca ttccgagtaa ctcctcaacc cggagttccc\n",
      "      121 gctgaagaag caggggctgc ggtagctgcc gaatcctcta ctggtacatg gacaactgtg\n",
      "      181 tggactgatg gacttaccag tcttgatcgt tacaaaggac gatgctacca cattgaggcc\n",
      "      241 gttgttgggg aagaaaatca atatatttgt tatgtagctt atcctttaga cctttttgaa\n",
      "      301 gaaggttctg ttactaacat gtttacttcc attgtgggta atgtatttgg tttcaaagcc\n",
      "      361 ctacgagctc tacgtctgga ggatctgcga attccccctg cttattccaa aactttccta\n",
      "      421 ggcccgcctc atggcatcca agttgaaaga gataaattga acaagtatgg tcgtccccta\n",
      "      481 ttgggatgta ctattaaacc aaaattggga ttatccgcaa aaaactacgg tagagcggtt\n",
      "      541 tatgaatgtc ta\n",
      "//\n",
      "\n"
     ]
    }
   ],
   "source": [
    "for r in records.keys():\n",
    "    print records[r].format('genbank')\n",
    "    break"
   ]
  },
  {
   "cell_type": "markdown",
   "metadata": {},
   "source": [
    "Iterate over all records and check is taxid is subspecies, if yes, replace with taxid of species and extract taxonomy line. If it's a subspecies record the record ID for further processing."
   ]
  },
  {
   "cell_type": "code",
   "execution_count": 25,
   "metadata": {
    "collapsed": false
   },
   "outputs": [
    {
     "name": "stdout",
     "output_type": "stream",
     "text": [
      "Dracaena draco  .. add to records\n",
      "Kalanchoe pinnata  .. add to records\n",
      "Kalanchoe pinnata  .. already covered\n",
      "Kalanchoe pinnata  .. already covered\n",
      "Dracaena draco  .. already covered\n",
      "Dracaena transvaalensis  .. add to records\n",
      "Crassula perforata  .. add to records\n",
      "Dracaena fragrans  .. add to records\n",
      "Dracaena draco  .. already covered\n",
      "Dracaena mannii  .. add to records\n",
      "Dracaena aletriformis  .. add to records\n",
      "Crassula nudicaulis  .. add to records\n"
     ]
    }
   ],
   "source": [
    "from collections import defaultdict\n",
    "\n",
    "taxon_to_taxid = {}\n",
    "recs_to_adjust = []\n",
    "taxon_to_recs = defaultdict(list)\n",
    "\n",
    "for key in records.keys():\n",
    "    r = records[key]\n",
    "   \n",
    "    source = [f for f in r.features if f.type == 'source'][0]\n",
    "    if (len(source.qualifiers['organism'][0].split(\" \")) == 2):\n",
    "        print source.qualifiers['organism'][0],\n",
    "        if 'db_xref' in source.qualifiers:\n",
    "#            print source.qualifiers['db_xref']\n",
    "            for t in source.qualifiers['db_xref']:\n",
    "#                print t\n",
    "                if 'taxon' in t:\n",
    "                    if not source.qualifiers['organism'][0] in taxon_to_taxid:\n",
    "                        print \" .. add to records\"\n",
    "                        taxon_to_taxid[source.qualifiers['organism'][0]] = t.split(\":\")[1]\n",
    "                    else:\n",
    "                        print \" .. already covered\"\n",
    "                    taxon_to_recs[source.qualifiers['organism'][0]].append(r.id)\n",
    "    elif (len(source.qualifiers['organism'][0].split(\" \")) > 2 and source.qualifiers['organism'][0].split(\" \")[1] == 'sp.'):\n",
    "        print source.qualifiers['organism'][0],\n",
    "        if 'db_xref' in source.qualifiers:\n",
    "            for t in source.qualifiers['db_xref']:\n",
    "                if 'taxon' in t:\n",
    "                    if not str(t) in taxon_to_taxid:\n",
    "                        taxon_to_taxid[source.qualifiers['organism'][0]] = str(t)\n",
    "                    else:\n",
    "                        print \" .. already covered\" \n",
    "                    taxon_to_recs[source.qualifiers['organism'][0]].append(r.id)\n",
    "    else:\n",
    "        print \"subspecies: %s\" %source.qualifiers['organism'][0]\n",
    "        recs_to_adjust.append(r.id)"
   ]
  },
  {
   "cell_type": "markdown",
   "metadata": {},
   "source": [
    "For the records that were identified as being _subspecies_ reduce to species and check whether the taxid for the species had already been encountered. If not we'd need to fetch it from NCBI."
   ]
  },
  {
   "cell_type": "code",
   "execution_count": 26,
   "metadata": {
    "collapsed": true
   },
   "outputs": [],
   "source": [
    "from collections import defaultdict\n",
    "\n",
    "to_fetch = defaultdict(list)\n",
    "\n",
    "for key in records.keys():\n",
    "    r = records[key]\n",
    "    if r.id in recs_to_adjust:\n",
    "        source = [f for f in r.features if f.type == 'source'][0]\n",
    "        adjust_from = source.qualifiers['organism'][0]\n",
    "        adjust_to = \" \".join(adjust_from.split(\" \")[:2])\n",
    "        print \"%s -> %s\" %(adjust_from,adjust_to)\n",
    "        if adjust_to in taxon_to_taxid:\n",
    "            taxon_to_recs[adjust_to].append(r.id)\n",
    "        else:\n",
    "            to_fetch[adjust_to].append(r.id)"
   ]
  },
  {
   "cell_type": "markdown",
   "metadata": {},
   "source": [
    "Check if we are good or if any are missing."
   ]
  },
  {
   "cell_type": "code",
   "execution_count": 27,
   "metadata": {
    "collapsed": false
   },
   "outputs": [
    {
     "name": "stdout",
     "output_type": "stream",
     "text": [
      "Have taxids for all records\n"
     ]
    }
   ],
   "source": [
    "if to_fetch:\n",
    "    print \"need to fetch some taxids\"\n",
    "else:\n",
    "    print \"Have taxids for all records\""
   ]
  },
  {
   "cell_type": "markdown",
   "metadata": {},
   "source": [
    "Write taxids to file and fetch full taxonomy for all of them using taxit from the taxtastic package."
   ]
  },
  {
   "cell_type": "code",
   "execution_count": 28,
   "metadata": {
    "collapsed": true
   },
   "outputs": [],
   "source": [
    "taxids = []\n",
    "\n",
    "out=open(\"taxids.txt\",'w')\n",
    "for sp in taxon_to_taxid:\n",
    "    taxids.append(taxon_to_taxid[sp])\n",
    "    out.write(taxon_to_taxid[sp]+\"\\n\")\n",
    "out.close()"
   ]
  },
  {
   "cell_type": "markdown",
   "metadata": {},
   "source": [
    "Create tab-delimited text file with full taxonomic tree for each taxid."
   ]
  },
  {
   "cell_type": "code",
   "execution_count": 29,
   "metadata": {
    "collapsed": true
   },
   "outputs": [],
   "source": [
    "!taxit taxtable -d /usr/bin/taxonomy.db -t taxids.txt -o taxa.csv"
   ]
  },
  {
   "cell_type": "markdown",
   "metadata": {},
   "source": [
    "In order to make our lives easier downstream we will limit ourselves to only a defined set of the most common taxonomic levels, that should be known for pretty much all taxa: superkingdom, phylum, class, order, family, genus, species.\n",
    "\n",
    "Extract 'taxonomy string' for a specific set of taxonomic levels."
   ]
  },
  {
   "cell_type": "code",
   "execution_count": 30,
   "metadata": {
    "collapsed": false
   },
   "outputs": [
    {
     "name": "stdout",
     "output_type": "stream",
     "text": [
      "131161 Eukaryota;Streptophyta;unknown;Saxifragales;Crassulaceae;Crassula;Crassula perforata\n",
      "231032 Eukaryota;Streptophyta;Liliopsida;Asparagales;Asparagaceae;Dracaena;Dracaena fragrans\n",
      "80913 Eukaryota;Streptophyta;unknown;Saxifragales;Crassulaceae;Kalanchoe;Kalanchoe pinnata\n",
      "992684 Eukaryota;Streptophyta;Liliopsida;Asparagales;Asparagaceae;Dracaena;Dracaena aletriformis\n",
      "1237548 Eukaryota;Streptophyta;Liliopsida;Asparagales;Asparagaceae;Dracaena;Dracaena transvaalensis\n",
      "1237547 Eukaryota;Streptophyta;Liliopsida;Asparagales;Asparagaceae;Dracaena;Dracaena mannii\n",
      "1641072 Eukaryota;Streptophyta;unknown;Saxifragales;Crassulaceae;Crassula;Crassula nudicaulis\n",
      "100532 Eukaryota;Streptophyta;Liliopsida;Asparagales;Asparagaceae;Dracaena;Dracaena draco\n"
     ]
    }
   ],
   "source": [
    "from collections import defaultdict\n",
    "\n",
    "tax_levels=['superkingdom','phylum','class','order','family','genus','species']\n",
    "indices = []\n",
    "taxdict = defaultdict(list)\n",
    "taxids_to_taxonomy = {}\n",
    "\n",
    "infile=open(\"taxa.csv\",'r')\n",
    "header=infile.next()\n",
    "\n",
    "header_as_list=header.strip().replace('\"','').split(\",\")\n",
    "for i in range(len(header_as_list)):\n",
    "#    print header_as_list[i]\n",
    "    if header_as_list[i] in tax_levels:\n",
    "#        print \"\\t\"+header_as_list[i],i\n",
    "        indices.append(i)\n",
    "\n",
    "for line in infile:\n",
    "    line_as_list=line.strip().replace('\"',\"\").split(\",\")\n",
    "    taxdict[line_as_list[0]] = line_as_list[1:]\n",
    "\n",
    "infile.close()\n",
    "\n",
    "for t in taxids:\n",
    "    print t,\n",
    "#    print taxdict[t]\n",
    "    taxonomy=\"\"\n",
    "    for i in range(len(tax_levels)):\n",
    "        if taxdict[t][indices[i]-1] == \"\":\n",
    "            taxonomy+='unknown'+';'\n",
    "        else:\n",
    "            taxonomy+=taxdict[taxdict[t][indices[i]-1]][2]+\";\"\n",
    "    print taxonomy[:-1]\n",
    "    taxids_to_taxonomy[t] = taxonomy[:-1]\n"
   ]
  },
  {
   "cell_type": "markdown",
   "metadata": {},
   "source": [
    "Write out the *.tax file for SATIVA."
   ]
  },
  {
   "cell_type": "code",
   "execution_count": 31,
   "metadata": {
    "collapsed": true
   },
   "outputs": [],
   "source": [
    "out=open(\"tax_for_SATIVA.tax\", 'w')\n",
    "\n",
    "for sp in taxon_to_recs:\n",
    "    for rec in taxon_to_recs[sp]:\n",
    "        out.write(\"%s\\t%s\\n\" %(rec,taxids_to_taxonomy[taxon_to_taxid[sp]]))\n",
    "        \n",
    "out.close()"
   ]
  },
  {
   "cell_type": "markdown",
   "metadata": {},
   "source": [
    "Check it"
   ]
  },
  {
   "cell_type": "code",
   "execution_count": 32,
   "metadata": {
    "collapsed": false
   },
   "outputs": [
    {
     "name": "stdout",
     "output_type": "stream",
     "text": [
      "AF274594.1\tEukaryota;Streptophyta;unknown;Saxifragales;Crassulaceae;Crassula;Crassula perforata\r\n",
      "JQ734500.1\tEukaryota;Streptophyta;Liliopsida;Asparagales;Asparagaceae;Dracaena;Dracaena fragrans\r\n",
      "JQ591185.1\tEukaryota;Streptophyta;unknown;Saxifragales;Crassulaceae;Kalanchoe;Kalanchoe pinnata\r\n",
      "GU135277.1\tEukaryota;Streptophyta;unknown;Saxifragales;Crassulaceae;Kalanchoe;Kalanchoe pinnata\r\n",
      "KP208892.1\tEukaryota;Streptophyta;unknown;Saxifragales;Crassulaceae;Kalanchoe;Kalanchoe pinnata\r\n",
      "JF265398.1\tEukaryota;Streptophyta;Liliopsida;Asparagales;Asparagaceae;Dracaena;Dracaena aletriformis\r\n",
      "JX572540.1\tEukaryota;Streptophyta;Liliopsida;Asparagales;Asparagaceae;Dracaena;Dracaena transvaalensis\r\n",
      "JX572539.1\tEukaryota;Streptophyta;Liliopsida;Asparagales;Asparagaceae;Dracaena;Dracaena mannii\r\n",
      "KP110251.1\tEukaryota;Streptophyta;unknown;Saxifragales;Crassulaceae;Crassula;Crassula nudicaulis\r\n",
      "JX571820.1\tEukaryota;Streptophyta;Liliopsida;Asparagales;Asparagaceae;Dracaena;Dracaena draco\r\n"
     ]
    }
   ],
   "source": [
    "!head tax_for_SATIVA.tax"
   ]
  },
  {
   "cell_type": "markdown",
   "metadata": {},
   "source": [
    "Let's now run SATIVA. If it's not already installed, we'll need to do this."
   ]
  },
  {
   "cell_type": "code",
   "execution_count": 33,
   "metadata": {
    "collapsed": false
   },
   "outputs": [
    {
     "name": "stdout",
     "output_type": "stream",
     "text": [
      "fatal: destination path 'sativa' already exists and is not an empty directory.\r\n"
     ]
    }
   ],
   "source": [
    "!git clone --recursive https://github.com/amkozlov/sativa.git"
   ]
  },
  {
   "cell_type": "code",
   "execution_count": 34,
   "metadata": {
    "collapsed": false
   },
   "outputs": [
    {
     "name": "stdout",
     "output_type": "stream",
     "text": [
      "/home/working/Sativa/sativa\n"
     ]
    }
   ],
   "source": [
    "cd sativa/"
   ]
  },
  {
   "cell_type": "markdown",
   "metadata": {},
   "source": [
    "Record SHA-1 checksum for the current commit for reproducibility>"
   ]
  },
  {
   "cell_type": "code",
   "execution_count": 35,
   "metadata": {
    "collapsed": false
   },
   "outputs": [
    {
     "name": "stdout",
     "output_type": "stream",
     "text": [
      "commit 8a99328f3f5382f7f541526878d049415af70999\r\n"
     ]
    }
   ],
   "source": [
    "!git log -1 | head -n 1"
   ]
  },
  {
   "cell_type": "code",
   "execution_count": 36,
   "metadata": {
    "collapsed": false
   },
   "outputs": [
    {
     "name": "stdout",
     "output_type": "stream",
     "text": [
      "Your compiler: gcc 4.8\r\n",
      "Building AVX: yes\r\n",
      "Building AVX2: yes\r\n",
      "make: Entering directory `/home/working/Sativa/sativa/raxml'\r\n",
      "rm -rf builddir.*\r\n",
      "rm -f unpack.*.stamp\r\n",
      "make: Leaving directory `/home/working/Sativa/sativa/raxml'\r\n",
      "\r\n",
      "Done!\r\n"
     ]
    }
   ],
   "source": [
    "!./install.sh"
   ]
  },
  {
   "cell_type": "markdown",
   "metadata": {},
   "source": [
    "Done! Let's run it"
   ]
  },
  {
   "cell_type": "code",
   "execution_count": 37,
   "metadata": {
    "collapsed": false
   },
   "outputs": [
    {
     "name": "stdout",
     "output_type": "stream",
     "text": [
      "/home/working/Sativa\n"
     ]
    }
   ],
   "source": [
    "cd .."
   ]
  },
  {
   "cell_type": "code",
   "execution_count": 38,
   "metadata": {
    "collapsed": false
   },
   "outputs": [
    {
     "name": "stdout",
     "output_type": "stream",
     "text": [
      "\n",
      "SATIVA v0.9-55-g0cbb090, released on 2016-06-28. Last version: https://github.com/amkozlov/sativa \n",
      "By A.Kozlov and J.Zhang, the Exelixis Lab. Based on RAxML 8.2.3 by A.Stamatakis.\n",
      "\n",
      "SATIVA was called as follows:\n",
      "\n",
      "./sativa/sativa.py -s alignment.phy -t tax_for_SATIVA.tax -x zoo -n rbcL -o ./ -T 5 -v\n",
      "\n",
      "Mislabels search is running with the following parameters:\n",
      " Alignment:                        alignment.phy\n",
      " Taxonomy:                         tax_for_SATIVA.tax\n",
      " Output directory:                 /home/working/Sativa\n",
      " Job name / output files prefix:   rbcL\n",
      " Model of rate heterogeneity:      AUTO\n",
      " Confidence cut-off:               0.000000\n",
      " Number of threads:                5\n",
      "\n",
      "*** STEP 1: Building the reference tree using provided alignment and taxonomic annotations ***\n",
      "\n",
      "=> Loading taxonomy from file: tax_for_SATIVA.tax ...\n",
      "\n",
      "==> Loading reference alignment from file: alignment.phy ...\n",
      "\n",
      "Guessing input format: not fasta\n",
      "Guessing input format: not phylip_relaxed\n",
      "===> Validating taxonomy and alignment ...\n",
      "\n",
      "====> Building a multifurcating tree from taxonomy with 12 seqs ...\n",
      "\n",
      "Total nodes in resulting tree: 12\n",
      "=====> Building the reference alignment ...\n",
      "\n",
      "======> Saving the outgroup for later re-rooting ...\n",
      "\n",
      "Outgroup for rooting was saved to: /home/working/Sativa/sativa/tmp/rbcL_1477327616547/rbcL_outgr.tre, outgroup size: 5\n",
      "=======> Resolving multifurcation: choosing the best topology from 1 independent RAxML runs ...\n",
      "\n",
      "\n",
      "Reducing the alignment: \n",
      "\n",
      "/home/working/Sativa/sativa/raxml//run_raxml.sh -w /home/working/Sativa/sativa/tmp/rbcL_1477327616547 -T 5 -f c -s /home/working/Sativa/sativa/tmp/rbcL_1477327616547/rbcL_matrix.afa --no-dup-check -m GTRGAMMA -n reduce --verbose -p 13332\n",
      "\n",
      "\n",
      "Constrained ML inference: \n",
      "\n",
      "/home/working/Sativa/sativa/raxml//run_raxml.sh -w /home/working/Sativa/sativa/tmp/rbcL_1477327616547 -T 5 -s /home/working/Sativa/sativa/tmp/rbcL_1477327616547/rbcL_matrix.afa -g /home/working/Sativa/sativa/tmp/rbcL_1477327616547/rbcL_mfu.tre --no-seq-check -N 1 -m GTRGAMMA -n mfresolv_rbcL --verbose -p 326\n",
      "\n",
      "\n",
      "GAMMA-based logLH of the reference tree: -1097.955761\n",
      "\n",
      "========> Calling RAxML-EPA to obtain branch labels ...\n",
      "\n",
      "/home/working/Sativa/sativa/raxml//run_raxml.sh -w /home/working/Sativa/sativa/tmp/rbcL_1477327616547 -T 5 -s /home/working/Sativa/sativa/tmp/rbcL_1477327616547/rbcL_lblq.fa -t /home/working/Sativa/sativa/tmp/rbcL_1477327616547/rbcL_bfu.tre --no-seq-check -f y --epa-accumulated-threshold 0.999 -R /home/working/Sativa/sativa/tmp/rbcL_1477327616547/rbcL.opt -m GTRGAMMA -n epalbl_rbcL --verbose -p 26407\n",
      "\n",
      "=========> Post-processing the EPA tree (re-rooting, taxonomic labeling etc.) ...\n",
      "\n",
      "\n",
      "==========> Checking branch labels ...\n",
      "shared rank names before training: set(['Eukaryota', 'Streptophyta'])\n",
      "shared rank names after  training: set(['Eukaryota', '-', 'Streptophyta'])\n",
      "\n",
      "==========> Saving the reference JSON file: ./rbcL.refjson\n",
      "\n",
      "Calculating the speciation rate...\n",
      "\n",
      "Writing down the reference file...\n",
      "\n",
      "*** STEP 2: Searching for mislabels ***\n",
      "\n",
      "Running the leave-one-sequence-out test...\n",
      "\n",
      "/home/working/Sativa/sativa/raxml//run_raxml.sh -w /home/working/Sativa/sativa/tmp/rbcL_1477327616547 -T 5 -s /home/working/Sativa/sativa/tmp/rbcL_1477327616547/rbcL.refaln -t /home/working/Sativa/sativa/tmp/rbcL_1477327616547/ref_rbcL.tre --no-seq-check -f O --epa-accumulated-threshold 0.999 -R /home/working/Sativa/sativa/tmp/rbcL_1477327616547/rbcL.opt -m GTRGAMMA -n l1out_seq_rbcL --verbose -p 13332\n",
      "\n",
      "Leave-one-out test identified 1 suspicious sequences; running final EPA test to check them...\n",
      "\n",
      "/home/working/Sativa/sativa/raxml//run_raxml.sh -w /home/working/Sativa/sativa/tmp/rbcL_1477327616547 -T 5 -s /home/working/Sativa/sativa/tmp/rbcL_1477327616547/rbcL.refaln -t /home/working/Sativa/sativa/tmp/rbcL_1477327616547/final_ref_rbcL.tre --no-seq-check -f v --epa-accumulated-threshold 0.999 -m GTRGAMMA -n final_epa_rbcL --verbose -p 326\n",
      "\n",
      "JF265398.1\tPhylum\tLiliopsida\tunknown\t0.509\tEukaryota;Streptophyta;Liliopsida;Asparagales;Asparagaceae;Dracaena\tEukaryota;Streptophyta;unknown;Saxifragales;Crassulaceae\t0.999;0.999;0.509;0.509;0.509\n",
      "\n",
      "Mislabeled sequences by rank:\n",
      "Phylum      :\t1\n",
      "\n",
      "Total mislabels: 1 / 8.33 %\n",
      "\n",
      "Results were saved to: /home/working/Sativa/rbcL.mis\n",
      "Execution log was saved to: /home/working/Sativa/rbcL.log\n",
      "\n",
      "Analysis completed successfully, elapsed time: 0 seconds (0s reftree, 0s leave-one-out)\n",
      "\n"
     ]
    }
   ],
   "source": [
    "!./sativa/sativa.py -s alignment.phy -t tax_for_SATIVA.tax -x zoo -n rbcL -o ./ -T 5 -v"
   ]
  }
 ],
 "metadata": {
  "kernelspec": {
   "display_name": "Python 2",
   "language": "python",
   "name": "python2"
  },
  "language_info": {
   "codemirror_mode": {
    "name": "ipython",
    "version": 2
   },
   "file_extension": ".py",
   "mimetype": "text/x-python",
   "name": "python",
   "nbconvert_exporter": "python",
   "pygments_lexer": "ipython2",
   "version": "2.7.6"
  }
 },
 "nbformat": 4,
 "nbformat_minor": 0
}
