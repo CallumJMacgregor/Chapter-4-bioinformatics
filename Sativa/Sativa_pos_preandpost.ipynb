{
 "cells": [
  {
   "cell_type": "markdown",
   "metadata": {},
   "source": [
    "#Sativa"
   ]
  },
  {
   "cell_type": "markdown",
   "metadata": {},
   "source": [
    "Sativa does a number of useful things, including checking the reference database for putatively mis-labelled sequences. Let's try it first on the positives database (which is small) and then on the main reference database (which is not!)."
   ]
  },
  {
   "cell_type": "markdown",
   "metadata": {},
   "source": [
    "We already have downloaded the relevant .gb files, so let's copy them to this location first."
   ]
  },
  {
   "cell_type": "code",
   "execution_count": 263,
   "metadata": {
    "collapsed": true
   },
   "outputs": [],
   "source": [
    "!cp ../positives_curated.gb $(pwd)"
   ]
  },
  {
   "cell_type": "code",
   "execution_count": 195,
   "metadata": {
    "collapsed": false
   },
   "outputs": [
    {
     "name": "stdout",
     "output_type": "stream",
     "text": [
      "^C\r\n"
     ]
    }
   ],
   "source": [
    "!cp ../eyorks_flora_curated.gb $(pwd)"
   ]
  },
  {
   "cell_type": "code",
   "execution_count": 264,
   "metadata": {
    "collapsed": false
   },
   "outputs": [
    {
     "name": "stdout",
     "output_type": "stream",
     "text": [
      "alignment.phy                         rbcL.log\r\n",
      "eyorks_flora_curated.gb               rbcL@mafftLinsi_aln_clipped.phy\r\n",
      "loci_counts.txt                       rbcL@mafftLinsi_aln.fasta\r\n",
      "loci.csv                              rbcL.mis\r\n",
      "mafftLinsi-clipped-raxml.html         rbcL_nr_pre_Sativa.gb\r\n",
      "mafftLinsi-clipped-raxml-SATIVA.html  rbcL_nr_pre_Sativa_pos.gb\r\n",
      "nr.pkl                                rbcL.refjson\r\n",
      "nr.pkl1                               \u001b[0m\u001b[01;34msativa\u001b[0m/\r\n",
      "positives_curated.gb                  Sativa.ipynb\r\n",
      "raw.pkl                               Sativa_pos_prep.ipynb\r\n",
      "raw.pkl1                              species_vs_locus_raw.csv\r\n",
      "rbcL_cropped_pos.fa                   target_locus.csv\r\n",
      "rbcL_cropped_pos.gb                   taxa.csv\r\n",
      "rbcL.final_epa.jplace                 tax_for_SATIVA.tax\r\n",
      "rbcL_id-1.uc                          taxids.txt\r\n",
      "rbcL.l1out_seq.jplace\r\n"
     ]
    }
   ],
   "source": [
    "ls"
   ]
  },
  {
   "cell_type": "markdown",
   "metadata": {},
   "source": [
    "#Positive control reference db"
   ]
  },
  {
   "cell_type": "markdown",
   "metadata": {},
   "source": [
    "Read reference sequences into ReproPhylo and filter to keep only proper rbcL records."
   ]
  },
  {
   "cell_type": "code",
   "execution_count": 304,
   "metadata": {
    "collapsed": true
   },
   "outputs": [],
   "source": [
    "from reprophylo import *"
   ]
  },
  {
   "cell_type": "code",
   "execution_count": 305,
   "metadata": {
    "collapsed": true
   },
   "outputs": [],
   "source": [
    "list_loci_in_genbank('positives_curated.gb',\n",
    "                     'loci.csv',\n",
    "                     'loci_counts.txt')"
   ]
  },
  {
   "cell_type": "code",
   "execution_count": 306,
   "metadata": {
    "collapsed": false
   },
   "outputs": [
    {
     "name": "stdout",
     "output_type": "stream",
     "text": [
      "\r\n",
      "There are 1 gene names (or gene product names) detected\r\n",
      "----------------------------------\r\n",
      "Gene and count sorted by gene name\r\n",
      "----------------------------------\r\n",
      "17 instances of CDS,rbcL\r\n",
      "-------------------------------\r\n",
      "Gene and count sorted by counts\r\n",
      "-------------------------------\r\n",
      "17 instances of CDS,rbcL\r\n"
     ]
    }
   ],
   "source": [
    "!cat loci_counts.txt"
   ]
  },
  {
   "cell_type": "code",
   "execution_count": 307,
   "metadata": {
    "collapsed": false
   },
   "outputs": [
    {
     "name": "stdout",
     "output_type": "stream",
     "text": [
      "dna,CDS,rbcL,rbcL\r\n"
     ]
    }
   ],
   "source": [
    "!cat loci.csv"
   ]
  },
  {
   "cell_type": "code",
   "execution_count": 308,
   "metadata": {
    "collapsed": false
   },
   "outputs": [
    {
     "name": "stdout",
     "output_type": "stream",
     "text": [
      "Overwriting target_locus.csv\n"
     ]
    }
   ],
   "source": [
    "%%file target_locus.csv\n",
    "dna,CDS,rbcL,rbcL,1"
   ]
  },
  {
   "cell_type": "code",
   "execution_count": 309,
   "metadata": {
    "collapsed": false
   },
   "outputs": [
    {
     "name": "stdout",
     "output_type": "stream",
     "text": [
      "dna,CDS,rbcL,rbcL,1"
     ]
    }
   ],
   "source": [
    "!cat target_locus.csv"
   ]
  },
  {
   "cell_type": "markdown",
   "metadata": {},
   "source": [
    "Start ReproPhylo project."
   ]
  },
  {
   "cell_type": "code",
   "execution_count": 310,
   "metadata": {
    "collapsed": false
   },
   "outputs": [],
   "source": [
    "#first time only\n",
    "#pj=Project('target_locus.csv', pickle='raw.pkl2', git=False)"
   ]
  },
  {
   "cell_type": "code",
   "execution_count": 272,
   "metadata": {
    "collapsed": false
   },
   "outputs": [],
   "source": [
    "pj = unpickle_pj('raw.pkl1', git=False)"
   ]
  },
  {
   "cell_type": "markdown",
   "metadata": {},
   "source": [
    "Read sequences into ReproPhylo."
   ]
  },
  {
   "cell_type": "code",
   "execution_count": 311,
   "metadata": {
    "collapsed": false
   },
   "outputs": [],
   "source": [
    "pj.read_embl_genbank(['positives_curated.gb'])"
   ]
  },
  {
   "cell_type": "code",
   "execution_count": 312,
   "metadata": {
    "collapsed": true
   },
   "outputs": [],
   "source": [
    "pj.extract_by_locus()"
   ]
  },
  {
   "cell_type": "code",
   "execution_count": 313,
   "metadata": {
    "collapsed": false
   },
   "outputs": [
    {
     "name": "stdout",
     "output_type": "stream",
     "text": [
      "Distribution Of Sequence Lengths\n",
      "Distribution Of Sequence Statistic \"Gc_Content\"\n"
     ]
    },
    {
     "data": {
      "image/png": "[encoded data removed]",
      "text/plain": [
       "<matplotlib.figure.Figure at 0x7f54d1a45950>"
      ]
     },
     "metadata": {},
     "output_type": "display_data"
    },
    {
     "data": {
      "image/png": "[encoded data removed]",
      "text/plain": [
       "<matplotlib.figure.Figure at 0x7f54d1a72390>"
      ]
     },
     "metadata": {},
     "output_type": "display_data"
    }
   ],
   "source": [
    "%matplotlib inline\n",
    "pj.report_seq_stats()"
   ]
  },
  {
   "cell_type": "code",
   "execution_count": 314,
   "metadata": {
    "collapsed": true
   },
   "outputs": [],
   "source": [
    "pj.species_vs_loci('species_vs_locus_raw.csv')"
   ]
  },
  {
   "cell_type": "code",
   "execution_count": 315,
   "metadata": {
    "collapsed": false
   },
   "outputs": [
    {
     "name": "stdout",
     "output_type": "stream",
     "text": [
      "species\trbcL\r",
      "\r\n",
      "Crassula nudicaulis\t1\r",
      "\r\n",
      "Crassula perforata\t1\r",
      "\r\n",
      "Dracaena aletriformis\t2\r",
      "\r\n",
      "Dracaena draco\t3\r",
      "\r\n",
      "Dracaena fragrans\t1\r",
      "\r\n",
      "Dracaena mannii\t1\r",
      "\r\n",
      "Dracaena transvaalensis\t1\r",
      "\r\n",
      "Kalanchoe pinnata\t7\r",
      "\r\n"
     ]
    }
   ],
   "source": [
    "!cat species_vs_locus_raw.csv"
   ]
  },
  {
   "cell_type": "code",
   "execution_count": 316,
   "metadata": {
    "collapsed": false
   },
   "outputs": [
    {
     "name": "stdout",
     "output_type": "stream",
     "text": [
      "Total number of records: 17\n",
      "Number of species (see below for full list): 8\n",
      "['Crassula perforata', 'Dracaena fragrans', 'Kalanchoe pinnata', 'Dracaena aletriformis', 'Dracaena transvaalensis', 'Dracaena mannii', 'Crassula nudicaulis', 'Dracaena draco']\n"
     ]
    }
   ],
   "source": [
    "species=[]\n",
    "for r in pj.records:\n",
    "    source = [f for f in r.features if f.type == 'source'][0]\n",
    "    species.append(\" \".join(source.qualifiers['organism'][0].split()[0:2]))\n",
    "    \n",
    "#print set(species)\n",
    "total=len(species)\n",
    "species=list(set(species))\n",
    "\n",
    "print \"Total number of records: %i\" %total\n",
    "print \"Number of species (see below for full list): %i\" %len(species)\n",
    "print species"
   ]
  },
  {
   "cell_type": "code",
   "execution_count": 317,
   "metadata": {
    "collapsed": true
   },
   "outputs": [],
   "source": [
    "def crop_to_CDS(record):\n",
    "    \"\"\"The function crops a Genbank record to only retain the sequnence of the first CDS\"\"\"\n",
    "    \n",
    "    from Bio import SeqFeature\n",
    "    \n",
    "    strands=[]\n",
    "    r = record\n",
    "    print \"\\nprocessing record: '%s' \" %r.id,\n",
    "    if r.features:\n",
    "        for feature in r.features:\n",
    "            if feature.type == 'CDS':\n",
    "                strands.append(feature.location.strand)\n",
    "                gene_name = feature.qualifiers['gene'][0]\n",
    "                r.seq = r.seq[feature.location.start:feature.location.end]\n",
    "                feature.location = SeqFeature.FeatureLocation(SeqFeature.ExactPosition(0), \n",
    "                                                              SeqFeature.ExactPosition(feature.location.end - feature.location.start), \n",
    "                                                             1)\n",
    "                break\n",
    "                \n",
    "        for feature in r.features:\n",
    "            if feature.type == 'source':\n",
    "                strands.append(feature.location.strand)\n",
    "                feature.qualifiers['note'] = ['modified from original record: cropped to only CDS of '+gene_name]\n",
    "                feature.location = SeqFeature.FeatureLocation(SeqFeature.ExactPosition(0), \n",
    "                                                              SeqFeature.ExactPosition(len(r.seq)), \n",
    "                                                             feature.location.strand)\n",
    "                break\n",
    "                    \n",
    "        if len(list(set(strands))) > 1:\n",
    "            r.seq = r.seq.reverse_complement()\n",
    "            print \"\\t.. reverse complementing\",\n",
    "\n",
    "        print \"\\t.. final length: %s\" %len(r.seq),\n",
    "\n",
    "    else:\n",
    "        print \"\\t  no features found ..\"\n",
    "\n",
    "    #print r.format('genbank')\n"
   ]
  },
  {
   "cell_type": "code",
   "execution_count": 318,
   "metadata": {
    "collapsed": false
   },
   "outputs": [
    {
     "name": "stdout",
     "output_type": "stream",
     "text": [
      "\n",
      "processing record: 'JX571820.1'  \t.. final length: 552 \n",
      "processing record: 'JQ591185.1'  \t.. final length: 552 \n",
      "processing record: 'JF265398.1'  \t.. final length: 503 \n",
      "processing record: 'JX572538.1'  \t.. final length: 535 \n",
      "processing record: 'JQ591186.1'  \t.. final length: 552 \n",
      "processing record: 'GU135277.1'  \t.. final length: 499 \n",
      "processing record: 'KP208892.1'  \t.. final length: 538 \n",
      "processing record: 'AB029848.1'  \t.. final length: 1360 \n",
      "processing record: 'JX572540.1'  \t.. final length: 552 \n",
      "processing record: 'JQ591187.1'  \t.. final length: 552 \n",
      "processing record: 'JQ591188.1'  \t.. final length: 526 \n",
      "processing record: 'AF274594.1'  \t.. final length: 1317 \n",
      "processing record: 'JQ734500.1'  \t.. final length: 511 \n",
      "processing record: 'JQ591189.1'  \t.. final length: 552 \n",
      "processing record: 'HM849958.1'  \t.. final length: 691 \n",
      "processing record: 'JX572539.1'  \t.. final length: 530 \n",
      "processing record: 'KP110251.1'  \t.. final length: 552\n"
     ]
    }
   ],
   "source": [
    "for r in pj.records:\n",
    "    crop_to_CDS(record=r)"
   ]
  },
  {
   "cell_type": "markdown",
   "metadata": {},
   "source": [
    "Write cropped records (minimum length 499bp) to Genbank file. At this point we could manually exclude some accession numbers - we will do this for the main reference db, but not now."
   ]
  },
  {
   "cell_type": "code",
   "execution_count": 319,
   "metadata": {
    "collapsed": true
   },
   "outputs": [],
   "source": [
    "from Bio import SeqIO\n",
    "\n",
    "temp=[]\n",
    "for r in pj.records:\n",
    "    if len(r.seq) >= 499:\n",
    "        temp.append(r)\n",
    "        \n",
    "out = open('rbcL_cropped_pos.gb', 'w')\n",
    "SeqIO.write(temp, out, 'genbank')\n",
    "out.close()\n",
    "\n",
    "out = open('rbcL_cropped_pos.fa', 'w')\n",
    "SeqIO.write(temp, out, 'fasta')\n",
    "out.close()\n",
    "\n",
    "\n",
    "del(temp)"
   ]
  },
  {
   "cell_type": "markdown",
   "metadata": {},
   "source": [
    "Pickle the project."
   ]
  },
  {
   "cell_type": "code",
   "execution_count": 320,
   "metadata": {
    "collapsed": false
   },
   "outputs": [
    {
     "data": {
      "text/plain": [
       "'raw.pkl2'"
      ]
     },
     "execution_count": 320,
     "metadata": {},
     "output_type": "execute_result"
    }
   ],
   "source": [
    "pickle_pj(pj, 'raw.pkl2')"
   ]
  },
  {
   "cell_type": "markdown",
   "metadata": {},
   "source": [
    "#Remove redundancy and tree building"
   ]
  },
  {
   "cell_type": "markdown",
   "metadata": {},
   "source": [
    "Remove redundancy by clustering the rbcL sequences with vsearch"
   ]
  },
  {
   "cell_type": "code",
   "execution_count": 321,
   "metadata": {
    "collapsed": false
   },
   "outputs": [
    {
     "name": "stdout",
     "output_type": "stream",
     "text": [
      "vsearch v1.1.0_linux_x86_64, 31.4GB RAM, 12 cores\n",
      "https://github.com/torognes/vsearch\n",
      "\n",
      "Reading file rbcL_cropped_pos.fa 100%\n",
      "10874 nt in 17 seqs, min 499, max 1360, avg 640\n",
      "Indexing sequences 100%\n",
      "Masking 100%\n",
      "Sorting by length 100%\n",
      "Counting unique k-mers 100%\n",
      "Clustering 100%\n",
      "Writing clusters 100%\n",
      "Clusters: 12 Size min 1, max 5, avg 1.4\n",
      "Singletons: 10, 58.8% of seqs, 83.3% of clusters\n"
     ]
    }
   ],
   "source": [
    "!vsearch -threads 5 --cluster_fast rbcL_cropped_pos.fa --strand both --uc rbcL_id-1.uc --id 1 --query_cov 1"
   ]
  },
  {
   "cell_type": "code",
   "execution_count": 322,
   "metadata": {
    "collapsed": false
   },
   "outputs": [],
   "source": [
    "#first time only\n",
    "#pj = Project('target_locus.csv', pickle='nr.pkl3', git=False)"
   ]
  },
  {
   "cell_type": "code",
   "execution_count": 237,
   "metadata": {
    "collapsed": false
   },
   "outputs": [],
   "source": [
    "pj = unpickle_pj('nr.pkl', git=False)"
   ]
  },
  {
   "cell_type": "code",
   "execution_count": 323,
   "metadata": {
    "collapsed": false
   },
   "outputs": [],
   "source": [
    "pj.read_embl_genbank(['rbcL_cropped_pos.gb'])"
   ]
  },
  {
   "cell_type": "code",
   "execution_count": 324,
   "metadata": {
    "collapsed": true
   },
   "outputs": [],
   "source": [
    "pj.extract_by_locus()"
   ]
  },
  {
   "cell_type": "code",
   "execution_count": 325,
   "metadata": {
    "collapsed": false
   },
   "outputs": [
    {
     "name": "stdout",
     "output_type": "stream",
     "text": [
      "Distribution Of Sequence Lengths\n",
      "Distribution Of Sequence Statistic \"Gc_Content\"\n"
     ]
    },
    {
     "data": {
      "image/png": "[encoded data removed]",
      "text/plain": [
       "<matplotlib.figure.Figure at 0x7f54d17cfe90>"
      ]
     },
     "metadata": {},
     "output_type": "display_data"
    },
    {
     "data": {
      "image/png": "[encoded data removed]",
      "text/plain": [
       "<matplotlib.figure.Figure at 0x7f54d182ac50>"
      ]
     },
     "metadata": {},
     "output_type": "display_data"
    }
   ],
   "source": [
    "%matplotlib inline\n",
    "pj.report_seq_stats()"
   ]
  },
  {
   "cell_type": "code",
   "execution_count": 326,
   "metadata": {
    "collapsed": false
   },
   "outputs": [
    {
     "name": "stdout",
     "output_type": "stream",
     "text": [
      "Total number of records: 17\n",
      "Number of species (see below for full list): 8\n",
      "['Crassula perforata', 'Dracaena fragrans', 'Kalanchoe pinnata', 'Dracaena aletriformis', 'Dracaena transvaalensis', 'Dracaena mannii', 'Crassula nudicaulis', 'Dracaena draco']\n"
     ]
    }
   ],
   "source": [
    "species=[]\n",
    "for r in pj.records:\n",
    "    source = [f for f in r.features if f.type == 'source'][0]\n",
    "    species.append(\" \".join(source.qualifiers['organism'][0].split()[0:2]))\n",
    "    \n",
    "#print set(species)\n",
    "total=len(species)\n",
    "species=list(set(species))\n",
    "\n",
    "print \"Total number of records: %i\" %total\n",
    "print \"Number of species (see below for full list): %i\" %len(species)\n",
    "print species"
   ]
  },
  {
   "cell_type": "markdown",
   "metadata": {
    "collapsed": true
   },
   "source": [
    "Extract IDs of representative sequences identified by vsearch -> remove all others from the object"
   ]
  },
  {
   "cell_type": "code",
   "execution_count": 327,
   "metadata": {
    "collapsed": false
   },
   "outputs": [
    {
     "name": "stdout",
     "output_type": "stream",
     "text": [
      "to drop: 5\n",
      "to keep: 12\n",
      "TOTAL: 17\n"
     ]
    }
   ],
   "source": [
    "ids = []\n",
    "\n",
    "uc=open('rbcL_id-1.uc', 'r')\n",
    "\n",
    "for line in uc:\n",
    "    if line.startswith('C'):\n",
    "        ids.append(line.split(\"\\t\")[8])\n",
    "        \n",
    "recs_to_keep = {'rbcL': ids}\n",
    "recs_to_drop = {'rbcL': []}\n",
    "\n",
    "for r in pj.records:\n",
    "    if not r.id in recs_to_keep['rbcL']:\n",
    "        recs_to_drop['rbcL'].append(r.id)\n",
    "        \n",
    "print \"to drop: %s\" %len(recs_to_drop['rbcL'])\n",
    "print \"to keep: %s\" %len(recs_to_keep['rbcL'])\n",
    "\n",
    "print \"TOTAL: %s\" %(len(recs_to_drop['rbcL']) + len(recs_to_keep['rbcL']))"
   ]
  },
  {
   "cell_type": "markdown",
   "metadata": {},
   "source": [
    "Here is another point at which we could theoretically manually remove our blacklist, by appending accession numbers to the 'recs_to_keep' list.\n",
    "We're not doing that for this db, so let's just exclude the redundant records now."
   ]
  },
  {
   "cell_type": "code",
   "execution_count": 328,
   "metadata": {
    "collapsed": true
   },
   "outputs": [],
   "source": [
    "pj.exclude(start_from_max=False, **recs_to_drop)"
   ]
  },
  {
   "cell_type": "code",
   "execution_count": 329,
   "metadata": {
    "collapsed": false
   },
   "outputs": [
    {
     "name": "stdout",
     "output_type": "stream",
     "text": [
      "Total number of records: 12\n",
      "Number of species (see below for full list): 8\n",
      "['Crassula perforata', 'Dracaena fragrans', 'Kalanchoe pinnata', 'Dracaena aletriformis', 'Dracaena transvaalensis', 'Dracaena mannii', 'Crassula nudicaulis', 'Dracaena draco']\n"
     ]
    }
   ],
   "source": [
    "species=[]\n",
    "for r in pj.records:\n",
    "    if r.id in recs_to_keep['rbcL']:\n",
    "        source = [f for f in r.features if f.type == 'source'][0]\n",
    "        species.append(\" \".join(source.qualifiers['organism'][0].split()[0:2]))\n",
    "    \n",
    "#print set(species)\n",
    "total=len(species)\n",
    "species=list(set(species))\n",
    "\n",
    "print \"Total number of records: %i\" %total\n",
    "print \"Number of species (see below for full list): %i\" %len(species)\n",
    "print species"
   ]
  },
  {
   "cell_type": "markdown",
   "metadata": {
    "collapsed": true
   },
   "source": [
    "Write full Genbank records to file for later processing with SATIVA."
   ]
  },
  {
   "cell_type": "code",
   "execution_count": 330,
   "metadata": {
    "collapsed": true
   },
   "outputs": [],
   "source": [
    "seqs = []\n",
    "from Bio import SeqIO\n",
    "for r in pj.records:\n",
    "    if r.id in recs_to_keep['rbcL']:\n",
    "        seqs.append(r)\n",
    "\n",
    "out = open('rbcL_nr_pre_Sativa_pos.gb','w')\n",
    "SeqIO.write(seqs, out, 'genbank')\n",
    "out.close()"
   ]
  },
  {
   "cell_type": "markdown",
   "metadata": {
    "collapsed": true
   },
   "source": [
    "Configure Alignment."
   ]
  },
  {
   "cell_type": "code",
   "execution_count": 331,
   "metadata": {
    "collapsed": false
   },
   "outputs": [
    {
     "name": "stdout",
     "output_type": "stream",
     "text": [
      "mafft --localpair --maxiterate 1000 333861477316008.61_CDS_proteins_rbcL.fasta\n"
     ]
    }
   ],
   "source": [
    "mafft_linsi = AlnConf(pj,                              # The Project\n",
    "                    method_name='mafftLinsi',        # Any unique method name,\n",
    "                    CDSAlign=True,                   # Use this method to align\n",
    "                    codontable=2,                    # The genetic code that\n",
    "                    program_name='mafft',            # mafft or muscle.\n",
    "                    cmd='mafft',                     # The command on your machine\n",
    "                    loci=['rbcL'],                 # A list of loci names to align.vel.\n",
    "                    cline_args={'localpair': True,# Program specific keywords and arguments.\n",
    "                                'maxiterate': 1000}# cine_args=={} by default, which will\n",
    "                    )"
   ]
  },
  {
   "cell_type": "markdown",
   "metadata": {},
   "source": [
    "Perform alignment"
   ]
  },
  {
   "cell_type": "code",
   "execution_count": 332,
   "metadata": {
    "collapsed": true
   },
   "outputs": [],
   "source": [
    "pj.align([mafft_linsi])"
   ]
  },
  {
   "cell_type": "code",
   "execution_count": 333,
   "metadata": {
    "collapsed": false
   },
   "outputs": [
    {
     "name": "stdout",
     "output_type": "stream",
     "text": [
      "AlnConf named mafftLinsi with ID 333861477316008.61\n",
      "Loci: rbcL \n",
      "Created on: Mon Oct 24 13:33:28 2016\n",
      "Commands:\n",
      "rbcL: mafft --localpair --maxiterate 1000 333861477316008.61_CDS_proteins_rbcL.fasta\n",
      "\n",
      "Environment:\n",
      "Platform: Linux-4.4.0-45-generic-x86_64-with-Ubuntu-14.04-trusty\n",
      " Processor: x86_64\n",
      " Python build: defaultMar 22 2014 22:59:56\n",
      " Python compiler: GCC 4.8.2\n",
      " Python implementation: CPython\n",
      " Python version: 2.7.6\n",
      " ete2 version: 2.2.1072\n",
      " biopython version: 1.68\n",
      " dendropy version: 3.12.2\n",
      " cloud version: 2.8.5\n",
      " reprophylo version 1.3\n",
      " User: BioPC5\n",
      " Program and version: MAFFT v7.123b\\nPal2Nal v14\n",
      " Program reference:Katoh\n",
      " Standley 2013 (Molecular Biology and Evolution 30:772-780) MAFFT multiple sequence alignment software version 7: improvements in performance and usability.\\nMikita Suyama\n",
      " David Torrents\n",
      " and Peer Bork (2006) PAL2NAL: robust conversion of protein sequence alignments into the corresponding codon alignments.Nucleic Acids Res. 34\n",
      " W609-W612.\n",
      "execution time:\n",
      "0.366770982742\n",
      "\n",
      "\n",
      "==============================\n",
      "Core Methods section sentence:\n",
      "==============================\n",
      "The dataset(s) rbcL were first aligned at the protein level using the program MAFFT v7.123b [1].\n",
      "The resulting alignments served as guides to codon-align the DNA sequences using Pal2Nal v14 [2].\n",
      "\n",
      "Reference:\n",
      "[1]Katoh, Standley 2013 (Molecular Biology and Evolution 30:772-780) MAFFT multiple sequence alignment software version 7: improvements in performance and usability.\n",
      "[2]Mikita Suyama, David Torrents, and Peer Bork (2006) PAL2NAL: robust conversion of protein sequence alignments into the corresponding codon alignments.Nucleic Acids Res. 34, W609-W612.\n",
      "\n"
     ]
    }
   ],
   "source": [
    "print pj.used_methods['mafftLinsi']"
   ]
  },
  {
   "cell_type": "code",
   "execution_count": 334,
   "metadata": {
    "collapsed": false
   },
   "outputs": [
    {
     "data": {
      "text/plain": [
       "'nr.pkl3'"
      ]
     },
     "execution_count": 334,
     "metadata": {},
     "output_type": "execute_result"
    }
   ],
   "source": [
    "pickle_pj(pj, 'nr.pkl3')"
   ]
  },
  {
   "cell_type": "code",
   "execution_count": 335,
   "metadata": {
    "collapsed": false
   },
   "outputs": [
    {
     "data": {
      "text/plain": [
       "['rbcL@mafftLinsi_aln.fasta']"
      ]
     },
     "execution_count": 335,
     "metadata": {},
     "output_type": "execute_result"
    }
   ],
   "source": [
    "pj.write_alns(id=['record_id','source_organism'], format='fasta')"
   ]
  },
  {
   "cell_type": "markdown",
   "metadata": {},
   "source": [
    "Alignment looks ok. Needs a bit of end clipping. TrimAL, the trimming method implemented in ReproPhylo doesn't seem to allow for end clipping only, so the below cell contains a custom solution for start/end-clipping the alignment.\n",
    "\n",
    "We only want to trim the alignment from the end because this is the alignment that should be used for phylogenetic placement and it needs to be possible to align reads to the alignment.\n",
    "\n",
    "Clipping positions are determined from start/end of the alignment by assessing the average per column completeness across 10 bp sliding windows. per column completeness is the proportion of sequences represented by ACGT in a given column. Average completeness is assessed across 10bp sliding windows.\n",
    "\n",
    "The clipping point is defined as the position at which the alignment, starting from the 5'/3'-ends, respectively, retained an average completeness > 0.7 (i.e. 70% of the sequences are informative) for 10 consecutive sliding windows."
   ]
  },
  {
   "cell_type": "code",
   "execution_count": 336,
   "metadata": {
    "collapsed": false
   },
   "outputs": [
    {
     "name": "stdout",
     "output_type": "stream",
     "text": [
      "returning alignment object rbcL@mafftLinsi\n",
      "\n",
      "Finding forward clip position:\n",
      "\n",
      "1 17 0.708333333333\n",
      "2 18 0.716666666667\n",
      "3 19 0.725\n",
      "4 20 0.733333333333\n",
      "5 21 0.741666666667\n",
      "6 22 0.741666666667\n",
      "7 23 0.741666666667\n",
      "8 24 0.758333333333\n",
      "9 25 0.775\n",
      "10 26 0.8\n",
      "Suggested forward clip at: 16 (10,26)\n",
      "\n",
      "Finding reverse clip position:\n",
      "\n",
      "1 541 0.7\n",
      "2 540 0.716666666667\n",
      "3 539 0.733333333333\n",
      "4 538 0.75\n",
      "5 537 0.766666666667\n",
      "6 536 0.791666666667\n",
      "7 535 0.816666666667\n",
      "8 534 0.841666666667\n",
      "9 533 0.866666666667\n",
      "10 532 0.875\n",
      "Suggested reverse clip at: 542 (10,532)\n"
     ]
    }
   ],
   "source": [
    "import numpy as np\n",
    "\n",
    "per_col=[]\n",
    "\n",
    "aln = pj.fa('rbcL@mafftLinsi')\n",
    "\n",
    "\n",
    "icol=0\n",
    "for a in aln[1,:]:\n",
    "    ACGT_count=0\n",
    "    col=aln[:,icol]\n",
    "    for i in range(len(col)):\n",
    "        if col[i] in ['A','G','C','T']:\n",
    "            ACGT_count+=1\n",
    "#    print pj.fa('CytB@mafftLinsi')[:,a]\n",
    "    per_col.append(float(ACGT_count)/len(col))\n",
    "    icol+=1\n",
    "\n",
    "wsize=10\n",
    "min_prop=0.7\n",
    "    \n",
    "print \"\\nFinding forward clip position:\\n\"\n",
    "forw_count=0\n",
    "forw_clip=0\n",
    "for i in range(len(per_col)-wsize):\n",
    "        \n",
    "    if np.mean(per_col[i:i+10]) > min_prop:\n",
    "        forw_count+=1\n",
    "        forw_clip=i\n",
    "        print forw_count,i,np.mean(per_col[i:i+wsize])\n",
    "    else:\n",
    "        forw_count=0\n",
    "        \n",
    "    if forw_count >= wsize:\n",
    "        break\n",
    "        \n",
    "print \"Suggested forward clip at: %s (%s,%s)\" %(forw_clip-wsize,forw_count,forw_clip)\n",
    "\n",
    "print \"\\nFinding reverse clip position:\\n\"\n",
    "reve_count=0\n",
    "reve_clip=0\n",
    "for i in reversed(range(len(per_col)-wsize)):\n",
    "        \n",
    "    if np.mean(per_col[i:i+10]) > min_prop:\n",
    "        reve_count+=1\n",
    "        reve_clip=i\n",
    "        print reve_count,i,np.mean(per_col[i:i+wsize])\n",
    "    else:\n",
    "        reve_count=0\n",
    "        \n",
    "    if reve_count >= wsize:\n",
    "        break\n",
    "    \n",
    "print \"Suggested reverse clip at: %s (%s,%s)\" %(reve_clip+wsize,reve_count,reve_clip)"
   ]
  },
  {
   "cell_type": "markdown",
   "metadata": {},
   "source": [
    "Clip the alignment at the positions determined above and write to file. We'll use Biopython functions to do this."
   ]
  },
  {
   "cell_type": "markdown",
   "metadata": {},
   "source": [
    "Clip alignment - the new Biopython alignment object is called clipped_aln."
   ]
  },
  {
   "cell_type": "code",
   "execution_count": 337,
   "metadata": {
    "collapsed": false
   },
   "outputs": [
    {
     "name": "stdout",
     "output_type": "stream",
     "text": [
      "returning alignment object rbcL@mafftLinsi\n"
     ]
    }
   ],
   "source": [
    "from Bio import AlignIO\n",
    "\n",
    "aln = pj.fa('rbcL@mafftLinsi')\n",
    "\n",
    "clipped_aln = aln[:,forw_clip-wsize:reve_clip+wsize]"
   ]
  },
  {
   "cell_type": "markdown",
   "metadata": {},
   "source": [
    "Convert the clipped alignment (which is a Biopython alignment object) to a ReproPhylo trimmed alignment object, so that we can resume working with it in ReproPhylo."
   ]
  },
  {
   "cell_type": "code",
   "execution_count": 351,
   "metadata": {
    "collapsed": true
   },
   "outputs": [],
   "source": [
    "pj.trimmed_alignments[\"rbcL@mafftLinsi_aln_clipped\"] = clipped_aln"
   ]
  },
  {
   "cell_type": "code",
   "execution_count": 353,
   "metadata": {
    "collapsed": false
   },
   "outputs": [
    {
     "data": {
      "text/plain": [
       "{'rbcL@mafftLinsi_aln_clipped': <<class 'Bio.Align.MultipleSeqAlignment'> instance (12 records of length 526, SingleLetterAlphabet()) at 7f54d18bc590>,\n",
       " 'rbcl@mafftLinsi_aln_clipped': <<class 'Bio.Align.MultipleSeqAlignment'> instance (12 records of length 526, SingleLetterAlphabet()) at 7f54d18bc590>}"
      ]
     },
     "execution_count": 353,
     "metadata": {},
     "output_type": "execute_result"
    }
   ],
   "source": [
    "pj.trimmed_alignments"
   ]
  },
  {
   "cell_type": "markdown",
   "metadata": {},
   "source": [
    "Write clipped alignment to file for downstream taxonomic curation using SATIVA."
   ]
  },
  {
   "cell_type": "code",
   "execution_count": 354,
   "metadata": {
    "collapsed": false,
    "scrolled": true
   },
   "outputs": [],
   "source": [
    "from Bio import AlignIO\n",
    "\n",
    "out=open('rbcL@mafftLinsi_aln_clipped.phy', 'w')\n",
    "AlignIO.write(clipped_aln, out, 'phylip-relaxed')\n",
    "out.close()"
   ]
  },
  {
   "cell_type": "markdown",
   "metadata": {},
   "source": [
    "Actually running SATIVA is best done in its own notebook, so let's divert now to that, and then continue with this notebook."
   ]
  },
  {
   "cell_type": "markdown",
   "metadata": {},
   "source": [
    "Infer Maximum Likelihood tree based on the clipped alignment. We are going to use RAxML."
   ]
  },
  {
   "cell_type": "markdown",
   "metadata": {},
   "source": [
    "Configure RAxML."
   ]
  },
  {
   "cell_type": "code",
   "execution_count": 355,
   "metadata": {
    "collapsed": false
   },
   "outputs": [
    {
     "name": "stdout",
     "output_type": "stream",
     "text": [
      "raxmlHPC-PTHREADS-SSE3 -f a -m GTRGAMMA -n 458021477317007.09_rbcL@mafftLinsi_aln_clipped0 -p 497 -s 458021477317007.09_rbcL@mafftLinsi_aln_clipped.fasta -T 5 -x 127 -N 100\n"
     ]
    }
   ],
   "source": [
    "raxml = RaxmlConf(pj, method_name='raxml-mafftLinsi-clipped',\n",
    "                 program_name='raxmlHPC-PTHREADS-SSE3',\n",
    "                 keepfiles=True,\n",
    "                 cmd='raxmlHPC-PTHREADS-SSE3',\n",
    "                 preset='fa',\n",
    "                 alns=['rbcL@mafftLinsi_aln_clipped'],\n",
    "                 model='GAMMA',\n",
    "                 threads=5,\n",
    "                 cline_args={'-#': 100})"
   ]
  },
  {
   "cell_type": "markdown",
   "metadata": {},
   "source": [
    "Run RAxML."
   ]
  },
  {
   "cell_type": "code",
   "execution_count": 356,
   "metadata": {
    "collapsed": true
   },
   "outputs": [],
   "source": [
    "pj.tree([raxml])"
   ]
  },
  {
   "cell_type": "code",
   "execution_count": 357,
   "metadata": {
    "collapsed": false
   },
   "outputs": [
    {
     "name": "stdout",
     "output_type": "stream",
     "text": [
      "RaxmlConf named raxml-mafftLinsi-clipped with ID 458021477317007.09\n",
      "Alignments: rbcL@mafftLinsi_aln_clipped \n",
      "Created on: Mon Oct 24 13:50:07 2016\n",
      "Commands:\n",
      "rbcL@mafftLinsi_aln_clipped:\n",
      "raxmlHPC-PTHREADS-SSE3 -f a -m GTRGAMMA -n 458021477317007.09_rbcL@mafftLinsi_aln_clipped0 -p 497 -s 458021477317007.09_rbcL@mafftLinsi_aln_clipped.fasta -T 5 -x 127 -N 100\n",
      "\n",
      "Environment:\n",
      "Platform: Linux-4.4.0-45-generic-x86_64-with-Ubuntu-14.04-trusty\n",
      " Processor: x86_64\n",
      " Python build: defaultMar 22 2014 22:59:56\n",
      " Python compiler: GCC 4.8.2\n",
      " Python implementation: CPython\n",
      " Python version: 2.7.6\n",
      " ete2 version: 2.2.1072\n",
      " biopython version: 1.68\n",
      " dendropy version: 3.12.2\n",
      " cloud version: 2.8.5\n",
      " reprophylo version 1.3\n",
      " User: BioPC5\n",
      " Program and version: raxmlHPC-PTHREADS-SSE3RAxML version 8.0.12\n",
      " Program reference: A. Stamatakis: RAxML Version 8: A tool for Phylogenetic Analysis and Post-Analysis of Large Phylogenies. In Bioinformatics\n",
      " 2014.\n",
      "execution time:\n",
      "1.70503115654\n",
      "\n",
      "==============================\n",
      "Core Methods section sentence:\n",
      "==============================\n",
      "Phylogenetic trees were reconstructed from the dataset(s) rbcL@mafftLinsi_aln_clipped using the program raxmlHPC-PTHREADS-SSE3RAxML version 8.0.12 [1].\n",
      "\n",
      "Reference:\n",
      "A. Stamatakis: RAxML Version 8: A tool for Phylogenetic Analysis and Post-Analysis of Large Phylogenies. In Bioinformatics, 2014.\n",
      "\n"
     ]
    }
   ],
   "source": [
    "print pj.used_methods['raxml-mafftLinsi-clipped']"
   ]
  },
  {
   "cell_type": "code",
   "execution_count": 358,
   "metadata": {
    "collapsed": false
   },
   "outputs": [
    {
     "data": {
      "text/plain": [
       "'nr.pkl3'"
      ]
     },
     "execution_count": 358,
     "metadata": {},
     "output_type": "execute_result"
    }
   ],
   "source": [
    "pickle_pj(pj, 'nr.pkl3')"
   ]
  },
  {
   "cell_type": "markdown",
   "metadata": {},
   "source": [
    "Now let's visualize the tree.\n",
    "\n",
    "Prepare tree annotation:\n",
    "\n",
    "- define outgroups\n",
    "- specify support coloration"
   ]
  },
  {
   "cell_type": "code",
   "execution_count": 359,
   "metadata": {
    "collapsed": true
   },
   "outputs": [],
   "source": [
    "pj.add_qualifier_from_source('organism')"
   ]
  },
  {
   "cell_type": "code",
   "execution_count": 360,
   "metadata": {
    "collapsed": false
   },
   "outputs": [],
   "source": [
    "for species in ['Kalanchoe','Crassula']:\n",
    "    pj.if_this_then_that(species, 'organism', 'outgroup','outgroup',\n",
    "                        mode='part')"
   ]
  },
  {
   "cell_type": "code",
   "execution_count": 361,
   "metadata": {
    "collapsed": true
   },
   "outputs": [],
   "source": [
    "supports = {'black': [100,95],\n",
    "           'dimgray': [95,75],\n",
    "           'silver': [75,50]}"
   ]
  },
  {
   "cell_type": "code",
   "execution_count": 362,
   "metadata": {
    "collapsed": false
   },
   "outputs": [],
   "source": [
    "pj.clear_tree_annotations()\n",
    "pj.annotate('.', 'outgroup','outgroup',\n",
    "            ['source_organism','record_id'],\n",
    "            node_support_dict=supports, multifurc=10,\n",
    "            html='mafftLinsi-clipped-raxml.html')\n"
   ]
  },
  {
   "cell_type": "markdown",
   "metadata": {},
   "source": [
    "Check tree out. Have a think which sequences you would consider mislabelled and should better be removed from the reference database.\n",
    "\n",
    "Create a static copy of the tree (the last *.png with the expected alignment id) for later."
   ]
  },
  {
   "cell_type": "code",
   "execution_count": 363,
   "metadata": {
    "collapsed": false
   },
   "outputs": [],
   "source": [
    "%%bash\n",
    "\n",
    "last_png=$(ls -hlrt *rbcL@mafftLinsi_aln_clipped.png | tail -n 1 | perl -ne 'chomp; @a=split(\" \"); print \"$a[-1]\"')\n",
    "cp $last_png rbcL_mafftLinsi_clipped_raxml.png"
   ]
  },
  {
   "cell_type": "markdown",
   "metadata": {},
   "source": [
    "#============================"
   ]
  },
  {
   "cell_type": "markdown",
   "metadata": {},
   "source": [
    "In the meantime we have run SATIVA on the alignment that was the basis of the above tree.\n",
    "\n",
    "Now we are going to highlight the records that SATIVA considers mislabelled in the tree. We are also going to add a heatmap to the tree illustrating the confidence that SATIVA has in a given call.\n",
    "\n",
    "Parse SATIVA output and record putatively mislabelled sequence records and the confidence of the call."
   ]
  },
  {
   "cell_type": "code",
   "execution_count": 364,
   "metadata": {
    "collapsed": true
   },
   "outputs": [],
   "source": [
    "rec_mislabelled = {}\n",
    "sativa=open('rbcL.mis', 'r')\n",
    "\n",
    "for line in sativa:\n",
    "    if not line.startswith(\";\"):\n",
    "        rec_mislabelled[line.split(\"\\t\")[0]] = line.split(\"\\t\")[4]"
   ]
  },
  {
   "cell_type": "markdown",
   "metadata": {},
   "source": [
    "Add two new qualifiers containing info about the SATIVA results to the sequence features."
   ]
  },
  {
   "cell_type": "code",
   "execution_count": 365,
   "metadata": {
    "collapsed": true
   },
   "outputs": [],
   "source": [
    "for r in pj.records:\n",
    "    if r.id in rec_mislabelled:\n",
    "        for f in r.features:\n",
    "            f.qualifiers['mislabeled'] = ['yes']\n",
    "            f.qualifiers['mislabeled_conf'] = [rec_mislabelled[r.id]]\n",
    "    else:\n",
    "        for f in r.features:\n",
    "            f.qualifiers['mislabeled'] = ['no']\n",
    "            f.qualifiers['mislabeled_conf'] = [0.0001]"
   ]
  },
  {
   "cell_type": "code",
   "execution_count": 366,
   "metadata": {
    "collapsed": true
   },
   "outputs": [],
   "source": [
    "pj.propagate_metadata()"
   ]
  },
  {
   "cell_type": "markdown",
   "metadata": {},
   "source": [
    "Prepare tree annotation:\n",
    "- color records that were identified by SATIVA as being mislabelled.\n",
    "- add heatmap with mislabel confidence    "
   ]
  },
  {
   "cell_type": "code",
   "execution_count": 367,
   "metadata": {
    "collapsed": true
   },
   "outputs": [],
   "source": [
    "leaf_colors = {'yes':'red', 'no': 'black'}\n",
    "bg_colors = {'yes': 'red', 'no': 'white'}"
   ]
  },
  {
   "cell_type": "code",
   "execution_count": 370,
   "metadata": {
    "collapsed": true
   },
   "outputs": [],
   "source": [
    "pj.clear_tree_annotations()\n",
    "pj.annotate('.', 'outgroup', 'outgroup', \n",
    "            ['source_organism', 'record_id'], \n",
    "            node_support_dict=supports, multifurc=10,\n",
    "            html='mafftLinsi-clipped-raxml-SATIVA.html',\n",
    "            fsize=13,\n",
    "            heat_map_meta = ['mislabeled_conf'], heat_map_colour_scheme = 1,\n",
    "            leaf_node_color_meta = 'mislabeled', leaf_label_colors = leaf_colors)"
   ]
  },
  {
   "cell_type": "code",
   "execution_count": 371,
   "metadata": {
    "collapsed": true
   },
   "outputs": [],
   "source": [
    "%%bash\n",
    "\n",
    "last_png=$(ls -hlrt *rbcL@mafftLinsi_aln_clipped.png | tail -n 1 | perl -ne 'chomp; @a=split(\" \"); print \"$a[-1]\"')\n",
    "cp $last_png rbcL_mafftLinsi_clipped_raxml_SATIVA_leaf_colored.png"
   ]
  },
  {
   "cell_type": "code",
   "execution_count": 372,
   "metadata": {
    "collapsed": true
   },
   "outputs": [],
   "source": [
    "pj.clear_tree_annotations()\n",
    "pj.annotate('.', 'outgroup', 'outgroup', \n",
    "            ['source_organism', 'record_id'], \n",
    "            node_support_dict=supports, multifurc=10,\n",
    "            html='mafftLinsi-clipped-raxml-SATIVA.html',\n",
    "            fsize=13,\n",
    "            heat_map_meta = ['mislabeled_conf'], heat_map_colour_scheme = 1,\n",
    "            node_bg_meta = 'mislabeled', node_bg_color = bg_colors)"
   ]
  },
  {
   "cell_type": "code",
   "execution_count": 373,
   "metadata": {
    "collapsed": true
   },
   "outputs": [],
   "source": [
    "%%bash\n",
    "\n",
    "target=rbcL_mafftLinsi_clipped_raxml_SATIVA_bg_colored.png\n",
    "\n",
    "last_png=$(ls -hlrt *rbcL@mafftLinsi_aln_clipped.png | tail -n 1 | perl -ne 'chomp; @a=split(\" \"); print \"$a[-1]\"')\n",
    "cp $last_png $target"
   ]
  },
  {
   "cell_type": "markdown",
   "metadata": {},
   "source": [
    "Have a look - Dracaena aletriformis seems to have been flagged."
   ]
  },
  {
   "cell_type": "code",
   "execution_count": 375,
   "metadata": {
    "collapsed": false
   },
   "outputs": [
    {
     "data": {
      "text/plain": [
       "'nr.pkl3'"
      ]
     },
     "execution_count": 375,
     "metadata": {},
     "output_type": "execute_result"
    }
   ],
   "source": [
    "pickle_pj(pj, 'nr.pkl3')"
   ]
  },
  {
   "cell_type": "markdown",
   "metadata": {},
   "source": [
    "#Post-SATIVA"
   ]
  },
  {
   "cell_type": "markdown",
   "metadata": {},
   "source": [
    "We now want to exclude records SATIVA doesn't like, and redo alignment and tree-building"
   ]
  },
  {
   "cell_type": "code",
   "execution_count": 436,
   "metadata": {
    "collapsed": true
   },
   "outputs": [],
   "source": [
    "pj=Project('target_locus.csv', pickle='post_SATIVA_pos1.pkl', git=False)"
   ]
  },
  {
   "cell_type": "code",
   "execution_count": 437,
   "metadata": {
    "collapsed": false
   },
   "outputs": [],
   "source": [
    "pj.read_embl_genbank(['rbcL_nr_pre_Sativa_pos.gb'])"
   ]
  },
  {
   "cell_type": "code",
   "execution_count": 438,
   "metadata": {
    "collapsed": true
   },
   "outputs": [],
   "source": [
    "pj.extract_by_locus()"
   ]
  },
  {
   "cell_type": "markdown",
   "metadata": {},
   "source": [
    "Set the stage:"
   ]
  },
  {
   "cell_type": "code",
   "execution_count": 439,
   "metadata": {
    "collapsed": false
   },
   "outputs": [
    {
     "name": "stdout",
     "output_type": "stream",
     "text": [
      "to drop: 0\n",
      "to keep: 0\n",
      "TOTAL: 0\n"
     ]
    }
   ],
   "source": [
    "recs_to_keep = {'rbcL': []}\n",
    "recs_to_drop = {'rbcL': []}\n",
    "\n",
    "print \"to drop: %s\" %len(recs_to_drop['rbcL'])\n",
    "print \"to keep: %s\" %len(recs_to_keep['rbcL'])\n",
    "\n",
    "print \"TOTAL: %s\" %(len(recs_to_drop['rbcL']) + len(recs_to_keep['rbcL']))"
   ]
  },
  {
   "cell_type": "markdown",
   "metadata": {},
   "source": [
    "Record all record IDs and assign them the status 'keep'"
   ]
  },
  {
   "cell_type": "code",
   "execution_count": 440,
   "metadata": {
    "collapsed": true
   },
   "outputs": [],
   "source": [
    "for r in pj.records_by_locus['rbcL']:\n",
    "    recs_to_keep['rbcL'].append(\"_\".join(r.id.split(\"_\")[:-1]))"
   ]
  },
  {
   "cell_type": "code",
   "execution_count": 441,
   "metadata": {
    "collapsed": false
   },
   "outputs": [
    {
     "name": "stdout",
     "output_type": "stream",
     "text": [
      "to drop: 0\n",
      "to keep: 12\n",
      "TOTAL: 12\n"
     ]
    }
   ],
   "source": [
    "print \"to drop: %s\" %len(recs_to_drop['rbcL'])\n",
    "print \"to keep: %s\" %len(recs_to_keep['rbcL'])\n",
    "\n",
    "print \"TOTAL: %s\" %(len(recs_to_drop['rbcL']) + len(recs_to_keep['rbcL']))"
   ]
  },
  {
   "cell_type": "code",
   "execution_count": 442,
   "metadata": {
    "collapsed": true
   },
   "outputs": [],
   "source": [
    "rec_mislabelled = {}\n",
    "sativa=open('rbcL.mis', 'r')\n",
    "\n",
    "for line in sativa:\n",
    "    if not line.startswith(\";\"):\n",
    "        rec_mislabelled[line.split(\"\\t\")[0]] = line.split(\"\\t\")[4]"
   ]
  },
  {
   "cell_type": "code",
   "execution_count": 443,
   "metadata": {
    "collapsed": false
   },
   "outputs": [
    {
     "name": "stdout",
     "output_type": "stream",
     "text": [
      "1\n"
     ]
    }
   ],
   "source": [
    "print len(rec_mislabelled)"
   ]
  },
  {
   "cell_type": "markdown",
   "metadata": {},
   "source": [
    "Adjust lists accordingly"
   ]
  },
  {
   "cell_type": "code",
   "execution_count": 444,
   "metadata": {
    "collapsed": false
   },
   "outputs": [
    {
     "name": "stdout",
     "output_type": "stream",
     "text": [
      "JF265398.1\n",
      "\tadd to droplist\n",
      "\tremove from keeplist\n"
     ]
    }
   ],
   "source": [
    "for r in rec_mislabelled:\n",
    "    print r\n",
    "    if not r in recs_to_drop['rbcL']:\n",
    "        print \"\\tadd to droplist\"\n",
    "        recs_to_drop['rbcL'].append(r)\n",
    "    for i in reversed(range(len(recs_to_keep['rbcL']))):\n",
    "#        print i\n",
    "        if r in recs_to_keep['rbcL'][i]:\n",
    "            print \"\\tremove from keeplist\"\n",
    "            del(recs_to_keep['rbcL'][i])"
   ]
  },
  {
   "cell_type": "code",
   "execution_count": 445,
   "metadata": {
    "collapsed": false
   },
   "outputs": [
    {
     "name": "stdout",
     "output_type": "stream",
     "text": [
      "to drop: 1\n",
      "to keep: 11\n",
      "TOTAL: 12\n"
     ]
    }
   ],
   "source": [
    "print \"to drop: %s\" %len(recs_to_drop['rbcL'])\n",
    "print \"to keep: %s\" %len(recs_to_keep['rbcL'])\n",
    "\n",
    "print \"TOTAL: %s\" %(len(recs_to_drop['rbcL']) + len(recs_to_keep['rbcL']))"
   ]
  },
  {
   "cell_type": "markdown",
   "metadata": {},
   "source": [
    "Write out good records in full Genbank format including all metadata. Adjust to valid species and taxids before doing it.\n",
    "\n",
    "Identify records with Subspecies."
   ]
  },
  {
   "cell_type": "code",
   "execution_count": 446,
   "metadata": {
    "collapsed": false
   },
   "outputs": [
    {
     "name": "stdout",
     "output_type": "stream",
     "text": [
      "Dracaena draco  .. add to records\n",
      "Kalanchoe pinnata  .. add to records\n",
      "Kalanchoe pinnata  .. already covered\n",
      "Kalanchoe pinnata  .. already covered\n",
      "Dracaena draco  .. already covered\n",
      "Dracaena transvaalensis  .. add to records\n",
      "Crassula perforata  .. add to records\n",
      "Dracaena fragrans  .. add to records\n",
      "Dracaena draco  .. already covered\n",
      "Dracaena mannii  .. add to records\n",
      "Crassula nudicaulis  .. add to records\n"
     ]
    }
   ],
   "source": [
    "from collections import defaultdict\n",
    "\n",
    "Seqs = []\n",
    "taxon_to_taxid = {}\n",
    "recs_to_adjust = defaultdict(list)\n",
    "taxon_to_recs = defaultdict(list)\n",
    "\n",
    "for r in pj.records:\n",
    "    if r.id in recs_to_keep['rbcL']:\n",
    "        Seqs.append(r)\n",
    "        \n",
    "        source = [f for f in r.features if f.type == 'source'][0]\n",
    "\n",
    "        #screen for subspecies and record taxids of valid species\n",
    "        #if valid species record the taxid\n",
    "        if (len(source.qualifiers['organism'][0].split(\" \")) == 2):\n",
    "            print source.qualifiers['organism'][0],\n",
    "            if 'db_xref' in source.qualifiers:\n",
    "#                print source.qualifiers['db_xref']\n",
    "                for t in source.qualifiers['db_xref']:\n",
    "#                    print t\n",
    "                    if 'taxon' in t:\n",
    "                        if not source.qualifiers['organism'][0] in taxon_to_taxid:\n",
    "                            print \" .. add to records\"\n",
    "                            taxon_to_taxid[source.qualifiers['organism'][0]] = t.split(\":\")[1]\n",
    "                        else:\n",
    "                            print \" .. already covered\"\n",
    "                        taxon_to_recs[source.qualifiers['organism'][0]].append(r.id)\n",
    "        #if the species status is 'sp.' but has a valid taxid\n",
    "        elif (len(source.qualifiers['organism'][0].split(\" \")) > 2 and source.qualifiers['organism'][0].split(\" \")[1] == 'sp.'):\n",
    "            print source.qualifiers['organism'][0],\n",
    "            if 'db_xref' in source.qualifiers:\n",
    "                for t in source.qualifiers['db_xref']:\n",
    "                    if 'taxon' in t:\n",
    "                        if not source.qualifiers['organism'][0] in taxon_to_taxid:\n",
    "                            print \" .. add to records\"\n",
    "                            taxon_to_taxid[source.qualifiers['organism'][0]] = t.split(\":\")[1]\n",
    "                        else:\n",
    "                            print \" .. already covered\" \n",
    "                        taxon_to_recs[source.qualifiers['organism'][0]].append(r.id)\n",
    "        #all other cases we consider dubious, e.g. supspecies\n",
    "        else:\n",
    "            print \"subspecies: %s\" %source.qualifiers['organism'][0]\n",
    "            recs_to_adjust[r.id] = []"
   ]
  },
  {
   "cell_type": "markdown",
   "metadata": {},
   "source": [
    "Check if any of the taxa that were considered dubious are not already covered in the list after removing subspecies."
   ]
  },
  {
   "cell_type": "code",
   "execution_count": 447,
   "metadata": {
    "collapsed": true
   },
   "outputs": [],
   "source": [
    "from collections import defaultdict\n",
    "\n",
    "to_fetch = defaultdict(list)\n",
    "\n",
    "for r in Seqs:\n",
    "    if r.id in recs_to_adjust:\n",
    "        source = [f for f in r.features if f.type == 'source'][0]\n",
    "        adjust_from = source.qualifiers['organism'][0]\n",
    "        adjust_to = \" \".join(adjust_from.split(\" \")[:2])\n",
    "        print \"%s -> %s\" %(adjust_from,adjust_to)\n",
    "        if adjust_to in taxon_to_taxid:\n",
    "            taxon_to_recs[adjust_to].append(r.id)\n",
    "            recs_to_adjust[r.id].append(adjust_to)\n",
    "            recs_to_adjust[r.id].append(taxon_to_taxid[adjust_to])\n",
    "        else:\n",
    "            to_fetch[adjust_to].append(r.id)\n",
    "            recs_to_adjust[r.id].append(adjust_to)\n",
    "            "
   ]
  },
  {
   "cell_type": "code",
   "execution_count": 448,
   "metadata": {
    "collapsed": false
   },
   "outputs": [
    {
     "name": "stdout",
     "output_type": "stream",
     "text": [
      "0\n"
     ]
    }
   ],
   "source": [
    "print len(to_fetch)"
   ]
  },
  {
   "cell_type": "code",
   "execution_count": 449,
   "metadata": {
    "collapsed": true
   },
   "outputs": [],
   "source": [
    "for r in Seqs:\n",
    "    if r.id in recs_to_adjust:\n",
    "        print \"adjusting %s\" %r.id\n",
    "        source = r.features[0]\n",
    "        print \"%s\\t->\\t%s\" %(source.qualifiers['organism'][0],recs_to_adjust[r.id][0])\n",
    "        source = r.features[0]\n",
    "        source.qualifiers['organism'] = [recs_to_adjust[r.id][0]]\n",
    "        for i in range(len(source.qualifiers['db_xref'])):\n",
    "            if 'taxon' in source.qualifiers['db_xref'][i]:\n",
    "                source.qualifiers['db_xref'][i] = \"taxon:\"+recs_to_adjust[r.id][1]\n",
    "        if not 'note' in source.qualifiers:\n",
    "            source.qualifiers['note'] = ['modified from original record: adjusted to species']\n",
    "        else:\n",
    "            source.qualifiers['note'].append('modified from original record: adjusted to species')\n",
    "#        print r.format('genbank')       \n",
    "#    print r,recs_to_adjust[r]"
   ]
  },
  {
   "cell_type": "markdown",
   "metadata": {},
   "source": [
    "Write out only good records with all metadata in Genbank format."
   ]
  },
  {
   "cell_type": "code",
   "execution_count": 450,
   "metadata": {
    "collapsed": true
   },
   "outputs": [],
   "source": [
    "from Bio import SeqIO\n",
    "\n",
    "out = open('rbcL_positives_cleaned.gb','w')\n",
    "SeqIO.write(Seqs, out, \"genbank\")\n",
    "out.close()"
   ]
  },
  {
   "cell_type": "markdown",
   "metadata": {},
   "source": [
    "Exclude the records that were highlighted by SATIVA. Then realign and rebuild phylogeny."
   ]
  },
  {
   "cell_type": "code",
   "execution_count": 451,
   "metadata": {
    "collapsed": true
   },
   "outputs": [],
   "source": [
    "pj.exclude(start_from_max=False, **recs_to_drop)"
   ]
  },
  {
   "cell_type": "code",
   "execution_count": 452,
   "metadata": {
    "collapsed": false
   },
   "outputs": [
    {
     "name": "stdout",
     "output_type": "stream",
     "text": [
      "Total number of records: 11\n",
      "Number of species (see below for full list): 7\n",
      "['Crassula nudicaulis', 'Crassula perforata', 'Dracaena draco', 'Dracaena fragrans', 'Dracaena mannii', 'Dracaena transvaalensis', 'Kalanchoe pinnata']\n"
     ]
    }
   ],
   "source": [
    "species=[]\n",
    "for r in pj.records:\n",
    "    if r.id in recs_to_keep['rbcL']:\n",
    "        source = [f for f in r.features if f.type == 'source'][0]\n",
    "        species.append(\" \".join(source.qualifiers['organism'][0].split()[0:2]))\n",
    "        \n",
    "#print set(species)\n",
    "total=len(species)\n",
    "species=list(set(species))\n",
    "\n",
    "print \"Total number of records: %i\" %total\n",
    "print \"Number of species (see below for full list): %i\" %len(species)\n",
    "print sorted(species)"
   ]
  },
  {
   "cell_type": "markdown",
   "metadata": {},
   "source": [
    "Configure Alignment"
   ]
  },
  {
   "cell_type": "code",
   "execution_count": 453,
   "metadata": {
    "collapsed": false
   },
   "outputs": [
    {
     "name": "stdout",
     "output_type": "stream",
     "text": [
      "mafft --localpair --maxiterate 1000 731101477321913.59_CDS_proteins_rbcL.fasta\n"
     ]
    }
   ],
   "source": [
    "mafft_linsi = AlnConf(pj,                              # The Project\n",
    "                    method_name='mafftLinsi-SATIVA', # Any unique method name,\n",
    "                    CDSAlign=True,                   # Use this method to align\n",
    "                    codontable=2,                    # The genetic code that\n",
    "                    program_name='mafft',            # mafft or muscle.\n",
    "                    cmd='mafft',                     # The command on your machine\n",
    "                    loci=['rbcL'],                 # A list of loci names to align.vel.\n",
    "                    cline_args={'localpair': True,# Program specific keywords and arguments.\n",
    "                                'maxiterate': 1000}# cine_args=={} by default, which will\n",
    "                    )"
   ]
  },
  {
   "cell_type": "markdown",
   "metadata": {},
   "source": [
    "Align"
   ]
  },
  {
   "cell_type": "code",
   "execution_count": 454,
   "metadata": {
    "collapsed": false
   },
   "outputs": [],
   "source": [
    "pj.align([mafft_linsi])"
   ]
  },
  {
   "cell_type": "code",
   "execution_count": 455,
   "metadata": {
    "collapsed": false
   },
   "outputs": [
    {
     "name": "stdout",
     "output_type": "stream",
     "text": [
      "AlnConf named mafftLinsi-SATIVA with ID 731101477321913.59\n",
      "Loci: rbcL \n",
      "Created on: Mon Oct 24 15:11:53 2016\n",
      "Commands:\n",
      "rbcL: mafft --localpair --maxiterate 1000 731101477321913.59_CDS_proteins_rbcL.fasta\n",
      "\n",
      "Environment:\n",
      "Platform: Linux-4.4.0-45-generic-x86_64-with-Ubuntu-14.04-trusty\n",
      " Processor: x86_64\n",
      " Python build: defaultMar 22 2014 22:59:56\n",
      " Python compiler: GCC 4.8.2\n",
      " Python implementation: CPython\n",
      " Python version: 2.7.6\n",
      " ete2 version: 2.2.1072\n",
      " biopython version: 1.68\n",
      " dendropy version: 3.12.2\n",
      " cloud version: 2.8.5\n",
      " reprophylo version 1.3\n",
      " User: BioPC5\n",
      " Program and version: MAFFT v7.123b\\nPal2Nal v14\n",
      " Program reference:Katoh\n",
      " Standley 2013 (Molecular Biology and Evolution 30:772-780) MAFFT multiple sequence alignment software version 7: improvements in performance and usability.\\nMikita Suyama\n",
      " David Torrents\n",
      " and Peer Bork (2006) PAL2NAL: robust conversion of protein sequence alignments into the corresponding codon alignments.Nucleic Acids Res. 34\n",
      " W609-W612.\n",
      "execution time:\n",
      "0.347457885742\n",
      "\n",
      "\n",
      "==============================\n",
      "Core Methods section sentence:\n",
      "==============================\n",
      "The dataset(s) rbcL were first aligned at the protein level using the program MAFFT v7.123b [1].\n",
      "The resulting alignments served as guides to codon-align the DNA sequences using Pal2Nal v14 [2].\n",
      "\n",
      "Reference:\n",
      "[1]Katoh, Standley 2013 (Molecular Biology and Evolution 30:772-780) MAFFT multiple sequence alignment software version 7: improvements in performance and usability.\n",
      "[2]Mikita Suyama, David Torrents, and Peer Bork (2006) PAL2NAL: robust conversion of protein sequence alignments into the corresponding codon alignments.Nucleic Acids Res. 34, W609-W612.\n",
      "\n"
     ]
    }
   ],
   "source": [
    "print pj.used_methods['mafftLinsi-SATIVA']"
   ]
  },
  {
   "cell_type": "code",
   "execution_count": 457,
   "metadata": {
    "collapsed": false
   },
   "outputs": [
    {
     "data": {
      "text/plain": [
       "'post_SATIVA_pos1.pkl'"
      ]
     },
     "execution_count": 457,
     "metadata": {},
     "output_type": "execute_result"
    }
   ],
   "source": [
    "pickle_pj(pj, 'post_SATIVA_pos1.pkl')"
   ]
  },
  {
   "cell_type": "markdown",
   "metadata": {},
   "source": [
    "Find custom clipping points"
   ]
  },
  {
   "cell_type": "code",
   "execution_count": 464,
   "metadata": {
    "collapsed": false
   },
   "outputs": [
    {
     "name": "stdout",
     "output_type": "stream",
     "text": [
      "returning alignment object rbcL@mafftLinsi-SATIVA\n",
      "\n",
      "Finding forward clip position:\n",
      "\n",
      "1 19 0.7\n",
      "2 20 0.709090909091\n",
      "3 21 0.718181818182\n",
      "4 22 0.718181818182\n",
      "5 23 0.718181818182\n",
      "6 24 0.736363636364\n",
      "7 25 0.754545454545\n",
      "8 26 0.781818181818\n",
      "9 27 0.8\n",
      "10 28 0.818181818182\n",
      "Suggested forward clip at: 18 (10,28)\n",
      "\n",
      "Finding reverse clip position:\n",
      "\n",
      "1 557 0.727272727273\n",
      "2 556 0.727272727273\n",
      "3 555 0.727272727273\n",
      "4 554 0.727272727273\n",
      "5 553 0.727272727273\n",
      "6 552 0.727272727273\n",
      "7 551 0.727272727273\n",
      "8 550 0.727272727273\n",
      "9 549 0.727272727273\n",
      "10 548 0.727272727273\n",
      "Suggested reverse clip at: 558 (10,548)\n"
     ]
    }
   ],
   "source": [
    "import numpy as np\n",
    "\n",
    "per_col=[]\n",
    "\n",
    "aln = pj.fa('rbcL@mafftLinsi-SATIVA')\n",
    "\n",
    "icol=0\n",
    "for a in aln[1,:]:\n",
    "    ACGT_count=0\n",
    "    col=aln[:,icol]\n",
    "    for i in range(len(col)):\n",
    "        if col[i] in ['A','G','C','T']:\n",
    "            ACGT_count+=1\n",
    "#    print pj.fa('CytB@mafftLinsi')[:,a]\n",
    "    per_col.append(float(ACGT_count)/len(col))\n",
    "    icol+=1\n",
    "\n",
    "wsize=10\n",
    "min_prop=0.7\n",
    "    \n",
    "print \"\\nFinding forward clip position:\\n\"\n",
    "forw_count=0\n",
    "forw_clip=0\n",
    "for i in range(len(per_col)-wsize):\n",
    "        \n",
    "    if np.mean(per_col[i:i+10]) > min_prop:\n",
    "        forw_count+=1\n",
    "        forw_clip=i\n",
    "        print forw_count,i,np.mean(per_col[i:i+wsize])\n",
    "    else:\n",
    "        forw_count=0\n",
    "        \n",
    "    if forw_count >= wsize:\n",
    "        break\n",
    "        \n",
    "print \"Suggested forward clip at: %s (%s,%s)\" %(forw_clip-wsize,forw_count,forw_clip)\n",
    "\n",
    "print \"\\nFinding reverse clip position:\\n\"\n",
    "reve_count=0\n",
    "reve_clip=0\n",
    "for i in reversed(range(len(per_col)-wsize)):\n",
    "        \n",
    "    if np.mean(per_col[i:i+10]) > min_prop:\n",
    "        reve_count+=1\n",
    "        reve_clip=i\n",
    "        print reve_count,i,np.mean(per_col[i:i+wsize])\n",
    "    else:\n",
    "        reve_count=0\n",
    "        \n",
    "    if reve_count >= wsize:\n",
    "        break\n",
    "    \n",
    "print \"Suggested reverse clip at: %s (%s,%s)\" %(reve_clip+wsize,reve_count,reve_clip)"
   ]
  },
  {
   "cell_type": "code",
   "execution_count": 465,
   "metadata": {
    "collapsed": false
   },
   "outputs": [
    {
     "name": "stdout",
     "output_type": "stream",
     "text": [
      "returning alignment object rbcL@mafftLinsi-SATIVA\n"
     ]
    }
   ],
   "source": [
    "from Bio import AlignIO\n",
    "\n",
    "aln = pj.fa('rbcL@mafftLinsi-SATIVA')\n",
    "\n",
    "clipped_aln = aln[:,forw_clip-wsize:reve_clip+wsize]\n",
    "\n",
    "pj.trimmed_alignments[\"rbcL@mafftLinsi-SATIVA_aln_clipped\"] = clipped_aln"
   ]
  },
  {
   "cell_type": "code",
   "execution_count": 471,
   "metadata": {
    "collapsed": false
   },
   "outputs": [
    {
     "data": {
      "text/plain": [
       "{'rbcL@mafftLinsi-SATIVA_aln_clipped': <<class 'Bio.Align.MultipleSeqAlignment'> instance (11 records of length 540, SingleLetterAlphabet()) at 7f54d19f0850>}"
      ]
     },
     "execution_count": 471,
     "metadata": {},
     "output_type": "execute_result"
    }
   ],
   "source": [
    "pj.trimmed_alignments"
   ]
  },
  {
   "cell_type": "markdown",
   "metadata": {},
   "source": [
    "Configure tree building"
   ]
  },
  {
   "cell_type": "code",
   "execution_count": 472,
   "metadata": {
    "collapsed": false
   },
   "outputs": [
    {
     "name": "stdout",
     "output_type": "stream",
     "text": [
      "raxmlHPC-PTHREADS-SSE3 -f a -m GTRGAMMA -n 700931477323057.79_rbcL@mafftLinsi-SATIVA_aln_clipped0 -p 610 -s 700931477323057.79_rbcL@mafftLinsi-SATIVA_aln_clipped.fasta -T 5 -x 658 -N 100\n"
     ]
    }
   ],
   "source": [
    "raxml = RaxmlConf(pj, method_name='raxml-mafftLinsi-SATIVA-clipped', \n",
    "                 program_name='raxmlHPC-PTHREADS-SSE3',\n",
    "                 keepfiles=True,\n",
    "                 cmd='raxmlHPC-PTHREADS-SSE3',\n",
    "                 preset='fa',\n",
    "                 alns=['rbcL@mafftLinsi-SATIVA_aln_clipped'],\n",
    "                 model='GAMMA',\n",
    "                 threads=5,\n",
    "                 cline_args={'-#': 100})"
   ]
  },
  {
   "cell_type": "markdown",
   "metadata": {},
   "source": [
    "Infer tree"
   ]
  },
  {
   "cell_type": "code",
   "execution_count": 473,
   "metadata": {
    "collapsed": false
   },
   "outputs": [],
   "source": [
    "pj.tree([raxml])"
   ]
  },
  {
   "cell_type": "code",
   "execution_count": 475,
   "metadata": {
    "collapsed": false
   },
   "outputs": [
    {
     "name": "stdout",
     "output_type": "stream",
     "text": [
      "RaxmlConf named raxml-mafftLinsi-SATIVA-clipped with ID 700931477323057.79\n",
      "Alignments: rbcL@mafftLinsi-SATIVA_aln_clipped \n",
      "Created on: Mon Oct 24 15:30:57 2016\n",
      "Commands:\n",
      "rbcL@mafftLinsi-SATIVA_aln_clipped:\n",
      "raxmlHPC-PTHREADS-SSE3 -f a -m GTRGAMMA -n 700931477323057.79_rbcL@mafftLinsi-SATIVA_aln_clipped0 -p 610 -s 700931477323057.79_rbcL@mafftLinsi-SATIVA_aln_clipped.fasta -T 5 -x 658 -N 100\n",
      "\n",
      "Environment:\n",
      "Platform: Linux-4.4.0-45-generic-x86_64-with-Ubuntu-14.04-trusty\n",
      " Processor: x86_64\n",
      " Python build: defaultMar 22 2014 22:59:56\n",
      " Python compiler: GCC 4.8.2\n",
      " Python implementation: CPython\n",
      " Python version: 2.7.6\n",
      " ete2 version: 2.2.1072\n",
      " biopython version: 1.68\n",
      " dendropy version: 3.12.2\n",
      " cloud version: 2.8.5\n",
      " reprophylo version 1.3\n",
      " User: BioPC5\n",
      " Program and version: raxmlHPC-PTHREADS-SSE3RAxML version 8.0.12\n",
      " Program reference: A. Stamatakis: RAxML Version 8: A tool for Phylogenetic Analysis and Post-Analysis of Large Phylogenies. In Bioinformatics\n",
      " 2014.\n",
      "execution time:\n",
      "1.54094719887\n",
      "\n",
      "==============================\n",
      "Core Methods section sentence:\n",
      "==============================\n",
      "Phylogenetic trees were reconstructed from the dataset(s) rbcL@mafftLinsi-SATIVA_aln_clipped using the program raxmlHPC-PTHREADS-SSE3RAxML version 8.0.12 [1].\n",
      "\n",
      "Reference:\n",
      "A. Stamatakis: RAxML Version 8: A tool for Phylogenetic Analysis and Post-Analysis of Large Phylogenies. In Bioinformatics, 2014.\n",
      "\n"
     ]
    }
   ],
   "source": [
    "print pj.used_methods['raxml-mafftLinsi-SATIVA-clipped']"
   ]
  },
  {
   "cell_type": "code",
   "execution_count": 476,
   "metadata": {
    "collapsed": false
   },
   "outputs": [
    {
     "data": {
      "text/plain": [
       "'post_SATIVA_pos1.pkl'"
      ]
     },
     "execution_count": 476,
     "metadata": {},
     "output_type": "execute_result"
    }
   ],
   "source": [
    "pickle_pj(pj, 'post_SATIVA_pos1.pkl')"
   ]
  },
  {
   "cell_type": "markdown",
   "metadata": {},
   "source": [
    "Annotate final tree."
   ]
  },
  {
   "cell_type": "code",
   "execution_count": 477,
   "metadata": {
    "collapsed": true
   },
   "outputs": [],
   "source": [
    "pj.add_qualifier_from_source('organism')"
   ]
  },
  {
   "cell_type": "code",
   "execution_count": 478,
   "metadata": {
    "collapsed": true
   },
   "outputs": [],
   "source": [
    "supports = {'black': [100,95],\n",
    "            'dimgray': [95,75],\n",
    "            'silver': [75,50]}"
   ]
  },
  {
   "cell_type": "code",
   "execution_count": 480,
   "metadata": {
    "collapsed": true
   },
   "outputs": [],
   "source": [
    "for species in ['Kalanchoe','Crassula']:\n",
    "    pj.if_this_then_that(species, 'organism', 'outgroup', 'outgroup',\n",
    "                         mode='part')"
   ]
  },
  {
   "cell_type": "code",
   "execution_count": 481,
   "metadata": {
    "collapsed": true
   },
   "outputs": [],
   "source": [
    "pj.clear_tree_annotations()\n",
    "pj.annotate('.', 'outgroup', 'outgroup', \n",
    "            ['source_organism', 'record_id'], \n",
    "            node_support_dict=supports, multifurc=None,\n",
    "            html='mafftLinsi-clipped-raxml-post_SATIVA.html',\n",
    "            fsize=13)"
   ]
  },
  {
   "cell_type": "code",
   "execution_count": 482,
   "metadata": {
    "collapsed": false
   },
   "outputs": [
    {
     "data": {
      "text/plain": [
       "'post_SATIVA_pos1.pkl'"
      ]
     },
     "execution_count": 482,
     "metadata": {},
     "output_type": "execute_result"
    }
   ],
   "source": [
    "pickle_pj(pj, 'post_SATIVA_pos1.pkl')"
   ]
  },
  {
   "cell_type": "markdown",
   "metadata": {},
   "source": [
    "Write out alignment for pplacer input. Need to modify record id - remove the '_f0' that is appended by ReproPhylo."
   ]
  },
  {
   "cell_type": "code",
   "execution_count": 483,
   "metadata": {
    "collapsed": false
   },
   "outputs": [
    {
     "name": "stdout",
     "output_type": "stream",
     "text": [
      "returning trimmed alignment object rbcL@mafftLinsi-SATIVA_aln_clipped\n"
     ]
    }
   ],
   "source": [
    "from Bio import AlignIO\n",
    "\n",
    "aln = pj.fta('rbcL@mafftLinsi-SATIVA_aln_clipped')\n",
    "\n",
    "for r in aln:\n",
    "    r.id = \"_\".join(r.id.split(\"_\")[:-1])\n",
    "    r.description = r.id\n",
    "    \n",
    "out=open('../rbcL_positives_SATIVA_cleaned.alignment.fasta', 'w')\n",
    "AlignIO.write(aln, out, 'fasta')\n",
    "out.close()\n",
    "\n",
    "out=open('../rbcL_positives_SATIVA_cleaned.alignment.phylip', 'w')\n",
    "AlignIO.write(aln, out, 'phylip-relaxed')\n",
    "out.close()"
   ]
  },
  {
   "cell_type": "markdown",
   "metadata": {},
   "source": [
    "Also remove the '_f0' from the sequence ids in the tree."
   ]
  },
  {
   "cell_type": "code",
   "execution_count": 486,
   "metadata": {
    "collapsed": true
   },
   "outputs": [],
   "source": [
    "%%bash\n",
    "\n",
    "sed 's/_f[0-9]//g' RAxML_bestTree.700931477323057.79_rbcL@mafftLinsi-SATIVA_aln_clipped0 > RAxML_bestTree.rbcL@mafftLinsi-SATIVA_aln_clipped0"
   ]
  },
  {
   "cell_type": "code",
   "execution_count": 487,
   "metadata": {
    "collapsed": true
   },
   "outputs": [],
   "source": [
    "%%bash\n",
    "\n",
    "last_png=$(ls -hlrt *rbcL@mafftLinsi-SATIVA_aln_clipped.png | tail -n 1 | perl -ne 'chomp; @a=split(\" \"); print \"$a[-1]\"')\n",
    "cp $last_png rbcL_mafftLinsi-SATIVA_clipped_raxml_SATIVA.png"
   ]
  },
  {
   "cell_type": "markdown",
   "metadata": {},
   "source": [
    "Amazingly, this all apears to have worked! Now let's start a new notebook and try to do it all again - with the real reference database!"
   ]
  },
  {
   "cell_type": "code",
   "execution_count": null,
   "metadata": {
    "collapsed": true
   },
   "outputs": [],
   "source": []
  }
 ],
 "metadata": {
  "kernelspec": {
   "display_name": "Python 2",
   "language": "python",
   "name": "python2"
  },
  "language_info": {
   "codemirror_mode": {
    "name": "ipython",
    "version": 2
   },
   "file_extension": ".py",
   "mimetype": "text/x-python",
   "name": "python",
   "nbconvert_exporter": "python",
   "pygments_lexer": "ipython2",
   "version": "2.7.6"
  }
 },
 "nbformat": 4,
 "nbformat_minor": 0
}
